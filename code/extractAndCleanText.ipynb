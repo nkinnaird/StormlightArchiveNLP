{
 "cells": [
  {
   "cell_type": "code",
   "execution_count": 19,
   "metadata": {},
   "outputs": [],
   "source": [
    "import pdfplumber\n",
    "from nltk.tokenize import word_tokenize, sent_tokenize\n",
    "from nltk.util import ngrams\n",
    "from nltk.corpus import stopwords\n",
    "stop_words = set(stopwords.words('english'))\n",
    "from nltk.stem.porter import PorterStemmer\n",
    "porter = PorterStemmer()\n",
    "import re\n",
    "import string\n",
    "import pandas as pd\n",
    "import numpy as np\n",
    "from sklearn.feature_extraction.text import CountVectorizer, TfidfVectorizer"
   ]
  },
  {
   "cell_type": "code",
   "execution_count": 20,
   "metadata": {},
   "outputs": [],
   "source": [
    "def vectorizeText():\n",
    "    \n",
    "    # get counts and remove stop words\n",
    "#     cv = CountVectorizer(stop_words='english')\n",
    "#     X = cv.fit_transform(page_sentences)\n",
    "#     df_cv = pd.DataFrame(X.toarray(), columns=cv.get_feature_names())  \n",
    "#     df_cv.info()\n",
    "#     print(df_cv.columns)\n",
    "#     print(df_cv)\n",
    "\n",
    "    # get term frequencies and remove stop words\n",
    "    cv_tfidf = TfidfVectorizer(stop_words='english')\n",
    "    X_tfidf = cv_tfidf.fit_transform(page_sentences)\n",
    "    df_tfidf = pd.DataFrame(X_tfidf.toarray(), columns=cv_tfidf.get_feature_names())\n",
    "    df_tfidf.info()\n",
    "    print(df_tfidf.columns)\n",
    "    print(df_tfidf)      \n",
    "\n",
    "\n",
    "def cleanText(page):\n",
    "    page_text = this_page.extract_text()\n",
    "    \n",
    "    clean_text = page_text\n",
    "    \n",
    "    # remove punctuation\n",
    "    clean_text = re.sub('[%s]' % re.escape(string.punctuation), ' ', clean_text)\n",
    "    # make lower case\n",
    "    clean_text = clean_text.lower()\n",
    "    \n",
    "    # remove numbers - maybe not necessary\n",
    "#     clean_text = re.sub('\\w*\\d\\w*', ' ', clean_text)\n",
    "      \n",
    "    # tokenize the text either in individual words or sentences\n",
    "    clean_text = word_tokenize(clean_text)\n",
    "#     page_sentences = sent_tokenize(clean_text) # this doesn't work if punctuation has already been removed, can't clean the punctuation with the same line of code as above once it's been tokenized\n",
    "\n",
    "    # remove punctuation which has been reintroduced after tokenizing\n",
    "    clean_text = [word for word in clean_text if word.isalpha()]\n",
    "\n",
    "    # remove stop words (can do this manually or automatically with the vectorizer)\n",
    "    clean_text = [word for word in clean_text if word not in stop_words]\n",
    "    \n",
    "    # stem words\n",
    "    clean_text = [porter.stem(word) for word in clean_text]\n",
    "\n",
    "    \n",
    "    print(clean_text)\n",
    "#     print(page_sentences)\n",
    "    \n",
    "#     print('Num words on page = ', len(page_words))\n",
    "#     print('Num sentences on page = ', len(page_sentences))\n",
    "\n",
    "        \n",
    "  \n",
    "\n",
    "\n",
    "    \n",
    "#     twograms = list(ngrams(page_words,2))\n",
    "#     print(twograms)\n",
    "    \n",
    "\n",
    "    "
   ]
  },
  {
   "cell_type": "code",
   "execution_count": 21,
   "metadata": {},
   "outputs": [
    {
     "name": "stdout",
     "output_type": "stream",
     "text": [
      "['parshendi', 'agre', 'treati', 'send', 'assassin', 'night', 'sign', 'gemston', 'glow', 'wall', 'hallway', 'king', 'gavilar', 'like', 'lavish', 'display', 'know', 'leav', 'sourc', 'power', 'szeth', 'use', 'lash', 'thing', 'szeth', 'seen', 'millennia', 'histori', 'time', 'nonexist', 'legend', 'horribl', 'inaccur', 'szeth', 'peek', 'back', 'corridor', 'one', 'guard', 'intersect', 'saw', 'point', 'yell', 'szeth', 'made', 'sure', 'got', 'good', 'look', 'duck', 'away', 'took', 'deep', 'breath', 'ran', 'draw', 'stormlight', 'lantern', 'bodi', 'came', 'aliv', 'speed', 'increas', 'muscl', 'burst', 'energi', 'light', 'becam', 'storm', 'insid', 'blood', 'thunder', 'ear', 'terribl', 'wonder', 'time', 'two', 'corridor', 'one', 'side', 'threw', 'open', 'door', 'storag', 'room', 'hesit', 'long', 'enough', 'guard', 'round', 'corner', 'see', 'dash', 'room', 'prepar', 'full', 'lash', 'rais', 'arm', 'command', 'stormlight', 'pool', 'caus', 'skin', 'burst', 'alight', 'radianc', 'hand', 'toward', 'doorfram', 'spray', 'white', 'luminesc', 'across', 'like', 'paint', 'slam', 'door', 'guard', 'arriv', 'stormlight', 'held', 'door', 'frame', 'strength', 'hundr', 'arm', 'full', 'lash', 'bound', 'object', 'togeth', 'hold', 'fast', 'stormlight', 'ran', 'took', 'longer', 'drain', 'stormlight', 'far', 'basic', 'lash', 'door', 'handl', 'shook', 'wood', 'began', 'crack', 'guard', 'threw', 'weight', 'one', 'man', 'call', 'axe', 'szeth', 'cross', 'room', 'rapid', 'stride', 'weav', 'around', 'shroud', 'furnitur', 'store', 'red', 'cloth', 'deep', 'expens', 'wood', 'reach', 'far', 'wall', 'yet', 'anoth', 'rais', 'shardblad', 'slash', 'horizont', 'dark', 'grey', 'stone', 'rock', 'slice', 'easili', 'shardblad', 'could', 'cut', 'inanim', 'object', 'two', 'vertic', 'slash', 'follow', 'one', 'across', 'bottom', 'cut', 'larg', 'squar']\n"
     ]
    }
   ],
   "source": [
    "with pdfplumber.open(\"../StormlightArchiveBooks/The_Way_of_Kings_The_Stormlight_Archive_Book_1.pdf\") as pdf:\n",
    "    this_page = pdf.pages[24]\n",
    "#     print(this_page.extract_text())\n",
    "    cleanText(this_page)\n",
    "    \n"
   ]
  },
  {
   "cell_type": "code",
   "execution_count": null,
   "metadata": {},
   "outputs": [],
   "source": []
  }
 ],
 "metadata": {
  "kernelspec": {
   "display_name": "Python 3",
   "language": "python",
   "name": "python3"
  },
  "language_info": {
   "codemirror_mode": {
    "name": "ipython",
    "version": 3
   },
   "file_extension": ".py",
   "mimetype": "text/x-python",
   "name": "python",
   "nbconvert_exporter": "python",
   "pygments_lexer": "ipython3",
   "version": "3.8.5"
  }
 },
 "nbformat": 4,
 "nbformat_minor": 4
}
