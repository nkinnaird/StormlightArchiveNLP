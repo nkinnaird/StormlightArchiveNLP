{
 "cells": [
  {
   "cell_type": "code",
   "execution_count": 33,
   "metadata": {},
   "outputs": [],
   "source": [
    "import pandas as pd\n",
    "import numpy as np\n",
    "from nltk.corpus import stopwords\n",
    "stop_words = set(stopwords.words('english'))\n",
    "from sklearn.feature_extraction.text import CountVectorizer, TfidfVectorizer\n",
    "from sklearn.decomposition import NMF\n",
    "from sklearn.cluster import KMeans\n",
    "from sklearn.manifold import MDS\n",
    "from sklearn.metrics.pairwise import cosine_similarity, cosine_distances\n",
    "import matplotlib.pyplot as plt"
   ]
  },
  {
   "cell_type": "code",
   "execution_count": 2,
   "metadata": {},
   "outputs": [
    {
     "name": "stdout",
     "output_type": "stream",
     "text": [
      "{'does', 'why', \"she's\", 'again', 'me', 'not', 'under', 'doesn', 'wasn', 'ma', 'my', 'mustn', 'one', 'at', 's', 'isn', 'a', 'yourself', 'nor', 'he', 'these', 'more', 'most', \"doesn't\", 'she', 'aren', 'his', 'too', \"shan't\", 'if', 'above', \"mustn't\", 'they', \"needn't\", \"mightn't\", 'hasn', 'between', 'i', 'would', 'y', 'is', 'have', 'so', 'haven', \"weren't\", \"won't\", \"you'll\", \"haven't\", \"wouldn't\", 'same', 'myself', 'once', \"hasn't\", 'yourselves', 'for', 'out', \"that'll\", 'm', 'themselves', \"couldn't\", 'in', 'any', 'who', 'other', 'ain', 'had', 'himself', 'now', 'into', 'the', 'no', 'yours', 'than', 'whom', 've', 'o', 'all', 'it', 'of', 'off', 'shan', \"you're\", 'mightn', 'just', 'as', 'itself', 'then', 'could', \"should've\", 'ourselves', 'what', 'we', 'such', 'own', 'below', 'hadn', 'here', 'said', 'or', 're', \"aren't\", 'before', \"you'd\", 'ours', 'him', 'until', 'hers', \"it's\", 'through', 'wouldn', \"don't\", 'from', 'there', 'couldn', 'should', 'while', 'that', 'needn', 'few', 'its', 'having', 'our', 'd', 'them', 'shouldn', 'being', 'because', \"shouldn't\", \"you've\", \"isn't\", 'their', 'you', \"hadn't\", 'theirs', 'with', 'those', 'over', 'down', 'didn', 'how', 'further', 'about', 'don', 'but', 'where', 'do', 'on', 'to', 'her', 'against', 'won', 'after', 'doing', 'are', 'be', 'did', 'your', 'some', 'been', 'each', 'were', 'and', 'll', 'am', 'this', 'herself', 'up', 'can', \"wasn't\", 't', 'both', \"didn't\", 'by', 'only', 'during', 'when', 'like', 'very', 'will', 'which', 'has', 'an', 'weren', 'was'}\n"
     ]
    }
   ],
   "source": [
    "additional_stop_words = ['like', 'said', 'would', 'could', 'should', 'one']\n",
    "my_stop_words = stop_words.union(additional_stop_words)\n",
    "print(my_stop_words)"
   ]
  },
  {
   "cell_type": "code",
   "execution_count": 51,
   "metadata": {},
   "outputs": [],
   "source": [
    "# get counts and remove stop words\n",
    "def vectorizeText(inputText, min_df=1, max_df=1.0):\n",
    "    cv = CountVectorizer(stop_words=my_stop_words, min_df=min_df, max_df=max_df)\n",
    "    X = cv.fit_transform(inputText)\n",
    "    \n",
    "    return X, cv\n",
    "\n",
    "#     df_cv = pd.DataFrame(X.toarray(), columns=cv.get_feature_names())  \n",
    "#     df_cv.info()\n",
    "#     print(df_cv.columns)\n",
    "#     print(df_cv)\n",
    "\n",
    "# get term frequencies and remove stop words\n",
    "def vectorizeTextIDF(inputText, min_df=1, max_df=1.0):\n",
    "    cv_tfidf = TfidfVectorizer(stop_words=my_stop_words, min_df=min_df, max_df=max_df)\n",
    "    X_tfidf = cv_tfidf.fit_transform(inputText)\n",
    "    \n",
    "    return X_tfidf, cv_tfidf\n",
    "    \n",
    "#     df_tfidf = pd.DataFrame(X_tfidf.toarray(), columns=cv_tfidf.get_feature_names())\n",
    "#     df_tfidf.info()\n",
    "#     print(df_tfidf.columns)\n",
    "#     print(df_tfidf)      \n",
    "\n"
   ]
  },
  {
   "cell_type": "code",
   "execution_count": 119,
   "metadata": {},
   "outputs": [
    {
     "data": {
      "text/html": [
       "<div>\n",
       "<style scoped>\n",
       "    .dataframe tbody tr th:only-of-type {\n",
       "        vertical-align: middle;\n",
       "    }\n",
       "\n",
       "    .dataframe tbody tr th {\n",
       "        vertical-align: top;\n",
       "    }\n",
       "\n",
       "    .dataframe thead th {\n",
       "        text-align: right;\n",
       "    }\n",
       "</style>\n",
       "<table border=\"1\" class=\"dataframe\">\n",
       "  <thead>\n",
       "    <tr style=\"text-align: right;\">\n",
       "      <th></th>\n",
       "      <th>chapter_text</th>\n",
       "      <th>book</th>\n",
       "      <th>chapter</th>\n",
       "    </tr>\n",
       "  </thead>\n",
       "  <tbody>\n",
       "    <tr>\n",
       "      <th>0</th>\n",
       "      <td>prelud stormlight archiv kalak round rocki st...</td>\n",
       "      <td>1</td>\n",
       "      <td>1</td>\n",
       "    </tr>\n",
       "    <tr>\n",
       "      <th>1</th>\n",
       "      <td>love men frigid thing mountain stream three s...</td>\n",
       "      <td>1</td>\n",
       "      <td>2</td>\n",
       "    </tr>\n",
       "    <tr>\n",
       "      <th>2</th>\n",
       "      <td>kill bastard kill sun still hot die day week ...</td>\n",
       "      <td>1</td>\n",
       "      <td>3</td>\n",
       "    </tr>\n",
       "    <tr>\n",
       "      <th>3</th>\n",
       "      <td>ten order love forsaken us almighti shard sou...</td>\n",
       "      <td>1</td>\n",
       "      <td>4</td>\n",
       "    </tr>\n",
       "    <tr>\n",
       "      <th>4</th>\n",
       "      <td>man stood watch homeland fall dust water surg...</td>\n",
       "      <td>1</td>\n",
       "      <td>5</td>\n",
       "    </tr>\n",
       "    <tr>\n",
       "      <th>...</th>\n",
       "      <td>...</td>\n",
       "      <td>...</td>\n",
       "      <td>...</td>\n",
       "    </tr>\n",
       "    <tr>\n",
       "      <th>456</th>\n",
       "      <td>discard help potenti ﬁnal passion el ﬁrst fin...</td>\n",
       "      <td>4</td>\n",
       "      <td>127</td>\n",
       "    </tr>\n",
       "    <tr>\n",
       "      <th>457</th>\n",
       "      <td>ye look forward rule human el ﬁrst final ten ...</td>\n",
       "      <td>4</td>\n",
       "      <td>128</td>\n",
       "    </tr>\n",
       "    <tr>\n",
       "      <th>458</th>\n",
       "      <td>nearli much look forward serv newest odium re...</td>\n",
       "      <td>4</td>\n",
       "      <td>129</td>\n",
       "    </tr>\n",
       "    <tr>\n",
       "      <th>459</th>\n",
       "      <td>fourteen month ago eshonai hit ground chasm f...</td>\n",
       "      <td>4</td>\n",
       "      <td>130</td>\n",
       "    </tr>\n",
       "    <tr>\n",
       "      <th>460</th>\n",
       "      <td>wit stroll hallway elhokar old palac shatter ...</td>\n",
       "      <td>4</td>\n",
       "      <td>131</td>\n",
       "    </tr>\n",
       "  </tbody>\n",
       "</table>\n",
       "<p>461 rows × 3 columns</p>\n",
       "</div>"
      ],
      "text/plain": [
       "                                          chapter_text  book  chapter\n",
       "0     prelud stormlight archiv kalak round rocki st...     1        1\n",
       "1     love men frigid thing mountain stream three s...     1        2\n",
       "2     kill bastard kill sun still hot die day week ...     1        3\n",
       "3     ten order love forsaken us almighti shard sou...     1        4\n",
       "4     man stood watch homeland fall dust water surg...     1        5\n",
       "..                                                 ...   ...      ...\n",
       "456   discard help potenti ﬁnal passion el ﬁrst fin...     4      127\n",
       "457   ye look forward rule human el ﬁrst final ten ...     4      128\n",
       "458   nearli much look forward serv newest odium re...     4      129\n",
       "459   fourteen month ago eshonai hit ground chasm f...     4      130\n",
       "460   wit stroll hallway elhokar old palac shatter ...     4      131\n",
       "\n",
       "[461 rows x 3 columns]"
      ]
     },
     "execution_count": 119,
     "metadata": {},
     "output_type": "execute_result"
    }
   ],
   "source": [
    "unpickled_df = pd.read_pickle(\"./sla_chapter_text.pkl\")\n",
    "unpickled_df"
   ]
  },
  {
   "cell_type": "code",
   "execution_count": 123,
   "metadata": {},
   "outputs": [
    {
     "data": {
      "text/html": [
       "<div>\n",
       "<style scoped>\n",
       "    .dataframe tbody tr th:only-of-type {\n",
       "        vertical-align: middle;\n",
       "    }\n",
       "\n",
       "    .dataframe tbody tr th {\n",
       "        vertical-align: top;\n",
       "    }\n",
       "\n",
       "    .dataframe thead th {\n",
       "        text-align: right;\n",
       "    }\n",
       "</style>\n",
       "<table border=\"1\" class=\"dataframe\">\n",
       "  <thead>\n",
       "    <tr style=\"text-align: right;\">\n",
       "      <th></th>\n",
       "      <th>chapter_text</th>\n",
       "      <th>book</th>\n",
       "      <th>chapter</th>\n",
       "    </tr>\n",
       "  </thead>\n",
       "  <tbody>\n",
       "    <tr>\n",
       "      <th>200</th>\n",
       "      <td>moment notwithstand honestli say book brew si...</td>\n",
       "      <td>3</td>\n",
       "      <td>9</td>\n",
       "    </tr>\n",
       "    <tr>\n",
       "      <th>201</th>\n",
       "      <td>sum experi point moment decis oathbring prefa...</td>\n",
       "      <td>3</td>\n",
       "      <td>10</td>\n",
       "    </tr>\n",
       "    <tr>\n",
       "      <th>202</th>\n",
       "      <td>perhap heresi stretch back day childhood idea...</td>\n",
       "      <td>3</td>\n",
       "      <td>11</td>\n",
       "    </tr>\n",
       "    <tr>\n",
       "      <th>203</th>\n",
       "      <td>thirti three year ago dalinar danc one foot m...</td>\n",
       "      <td>3</td>\n",
       "      <td>12</td>\n",
       "    </tr>\n",
       "    <tr>\n",
       "      <th>204</th>\n",
       "      <td>ask forgiv even understand oathbring prefac d...</td>\n",
       "      <td>3</td>\n",
       "      <td>13</td>\n",
       "    </tr>\n",
       "    <tr>\n",
       "      <th>205</th>\n",
       "      <td>ask read listen word oathbring prefac shallan...</td>\n",
       "      <td>3</td>\n",
       "      <td>14</td>\n",
       "    </tr>\n",
       "    <tr>\n",
       "      <th>206</th>\n",
       "      <td>record hold noth back tri shi away diﬃcult to...</td>\n",
       "      <td>3</td>\n",
       "      <td>15</td>\n",
       "    </tr>\n",
       "    <tr>\n",
       "      <th>207</th>\n",
       "      <td>express direct even brutal truth must know do...</td>\n",
       "      <td>3</td>\n",
       "      <td>16</td>\n",
       "    </tr>\n",
       "    <tr>\n",
       "      <th>208</th>\n",
       "      <td>come lesson oathbring prefac legend rest ston...</td>\n",
       "      <td>3</td>\n",
       "      <td>17</td>\n",
       "    </tr>\n",
       "    <tr>\n",
       "      <th>209</th>\n",
       "      <td>lesson claim abl teach experi great teacher m...</td>\n",
       "      <td>3</td>\n",
       "      <td>18</td>\n",
       "    </tr>\n",
       "    <tr>\n",
       "      <th>210</th>\n",
       "      <td>spice describ must tast oathbring prefac shal...</td>\n",
       "      <td>3</td>\n",
       "      <td>19</td>\n",
       "    </tr>\n",
       "    <tr>\n",
       "      <th>211</th>\n",
       "      <td>thirti one year ago candl ﬂicker tabl dalinar...</td>\n",
       "      <td>3</td>\n",
       "      <td>20</td>\n",
       "    </tr>\n",
       "    <tr>\n",
       "      <th>212</th>\n",
       "      <td>howev danger spice warn tast lightli would le...</td>\n",
       "      <td>3</td>\n",
       "      <td>21</td>\n",
       "    </tr>\n",
       "    <tr>\n",
       "      <th>213</th>\n",
       "      <td>storytel entertain whimsic yarn oathbring pre...</td>\n",
       "      <td>3</td>\n",
       "      <td>22</td>\n",
       "    </tr>\n",
       "    <tr>\n",
       "      <th>214</th>\n",
       "      <td>philosoph intrigu pierc question oathbring pr...</td>\n",
       "      <td>3</td>\n",
       "      <td>23</td>\n",
       "    </tr>\n",
       "    <tr>\n",
       "      <th>215</th>\n",
       "      <td>poet delight clever allus oathbring prefac go...</td>\n",
       "      <td>3</td>\n",
       "      <td>24</td>\n",
       "    </tr>\n",
       "    <tr>\n",
       "      <th>216</th>\n",
       "      <td>doubt smarter relat happen done let draw conc...</td>\n",
       "      <td>3</td>\n",
       "      <td>25</td>\n",
       "    </tr>\n",
       "    <tr>\n",
       "      <th>217</th>\n",
       "      <td>confess murder pain kill someon love dearli o...</td>\n",
       "      <td>3</td>\n",
       "      <td>26</td>\n",
       "    </tr>\n",
       "    <tr>\n",
       "      <th>218</th>\n",
       "      <td>twenti nine year ago incens burn brazier larg...</td>\n",
       "      <td>3</td>\n",
       "      <td>27</td>\n",
       "    </tr>\n",
       "    <tr>\n",
       "      <th>219</th>\n",
       "      <td>confess heresi back thing said regardless ard...</td>\n",
       "      <td>3</td>\n",
       "      <td>28</td>\n",
       "    </tr>\n",
       "  </tbody>\n",
       "</table>\n",
       "</div>"
      ],
      "text/plain": [
       "                                          chapter_text  book  chapter\n",
       "200   moment notwithstand honestli say book brew si...     3        9\n",
       "201   sum experi point moment decis oathbring prefa...     3       10\n",
       "202   perhap heresi stretch back day childhood idea...     3       11\n",
       "203   thirti three year ago dalinar danc one foot m...     3       12\n",
       "204   ask forgiv even understand oathbring prefac d...     3       13\n",
       "205   ask read listen word oathbring prefac shallan...     3       14\n",
       "206   record hold noth back tri shi away diﬃcult to...     3       15\n",
       "207   express direct even brutal truth must know do...     3       16\n",
       "208   come lesson oathbring prefac legend rest ston...     3       17\n",
       "209   lesson claim abl teach experi great teacher m...     3       18\n",
       "210   spice describ must tast oathbring prefac shal...     3       19\n",
       "211   thirti one year ago candl ﬂicker tabl dalinar...     3       20\n",
       "212   howev danger spice warn tast lightli would le...     3       21\n",
       "213   storytel entertain whimsic yarn oathbring pre...     3       22\n",
       "214   philosoph intrigu pierc question oathbring pr...     3       23\n",
       "215   poet delight clever allus oathbring prefac go...     3       24\n",
       "216   doubt smarter relat happen done let draw conc...     3       25\n",
       "217   confess murder pain kill someon love dearli o...     3       26\n",
       "218   twenti nine year ago incens burn brazier larg...     3       27\n",
       "219   confess heresi back thing said regardless ard...     3       28"
      ]
     },
     "execution_count": 123,
     "metadata": {},
     "output_type": "execute_result"
    }
   ],
   "source": [
    "unpickled_df.iloc[200:220]"
   ]
  },
  {
   "cell_type": "code",
   "execution_count": 62,
   "metadata": {},
   "outputs": [
    {
     "name": "stdout",
     "output_type": "stream",
     "text": [
      "low threshold:  0.0  features:  13384\n",
      "low threshold:  0.01  features:  6484\n",
      "low threshold:  0.02  features:  4670\n",
      "low threshold:  0.03  features:  3961\n",
      "low threshold:  0.04  features:  3381\n",
      "low threshold:  0.05  features:  2972\n",
      "low threshold:  0.06  features:  2725\n",
      "low threshold:  0.07  features:  2473\n",
      "low threshold:  0.08  features:  2312\n",
      "low threshold:  0.09  features:  2121\n",
      "low threshold:  0.1  features:  1963\n",
      "low threshold:  0.11  features:  1846\n",
      "low threshold:  0.12  features:  1715\n",
      "low threshold:  0.13  features:  1619\n",
      "low threshold:  0.14  features:  1525\n",
      "low threshold:  0.15  features:  1436\n",
      "low threshold:  0.16  features:  1373\n",
      "low threshold:  0.17  features:  1301\n",
      "low threshold:  0.18  features:  1239\n",
      "low threshold:  0.19  features:  1179\n",
      "low threshold:  0.2  features:  1095\n"
     ]
    }
   ],
   "source": [
    "# look at vectorized text with various max_df and min_df options\n",
    "\n",
    "points_x_min = []\n",
    "points_y_min = []\n",
    "\n",
    "for val in np.linspace(0, .2, 21):\n",
    "    vectorized_matrix, vectorizer = vectorizeText(unpickled_df['chapter_text'], val, 1.0)\n",
    "    \n",
    "    print(\"low threshold: \", val, \" features: \", vectorized_matrix.shape[1])\n",
    "    vectorized_matrix.shape\n",
    "    \n",
    "    points_x_min.append(val)\n",
    "    points_y_min.append(vectorized_matrix.shape[1])\n",
    "    \n",
    "#     if val < 0.01:\n",
    "#     print(len(vectorizer.stop_words_))"
   ]
  },
  {
   "cell_type": "code",
   "execution_count": 93,
   "metadata": {},
   "outputs": [
    {
     "name": "stdout",
     "output_type": "stream",
     "text": [
      "high threshold:  0.05  features:  10412\n",
      "2972\n",
      "high threshold:  0.1  features:  11421\n",
      "1963\n",
      "high threshold:  0.15  features:  11948\n",
      "1436\n",
      "high threshold:  0.2  features:  12289\n",
      "1095\n",
      "high threshold:  0.25  features:  12493\n",
      "891\n",
      "high threshold:  0.3  features:  12661\n",
      "723\n",
      "high threshold:  0.35  features:  12790\n",
      "594\n",
      "high threshold:  0.39999999999999997  features:  12887\n",
      "497\n",
      "high threshold:  0.44999999999999996  features:  12963\n",
      "421\n",
      "high threshold:  0.49999999999999994  features:  13030\n",
      "354\n",
      "high threshold:  0.5499999999999999  features:  13094\n",
      "290\n",
      "high threshold:  0.6  features:  13152\n",
      "232\n",
      "high threshold:  0.65  features:  13196\n",
      "188\n",
      "high threshold:  0.7  features:  13236\n",
      "148\n",
      "high threshold:  0.75  features:  13277\n",
      "107\n",
      "{'forc', 'took', 'behind', 'pull', 'give', 'anoth', 'feel', 'take', 'eye', 'keep', 'step', 'long', 'good', 'part', 'know', 'besid', 'away', 'enough', 'might', 'way', 'mani', 'toward', 'last', 'move', 'around', 'call', 'think', 'far', 'knew', 'back', 'done', 'care', 'ask', 'without', 'left', 'use', 'open', 'let', 'tell', 'storm', 'side', 'make', 'wait', 'felt', 'work', 'want', 'someth', 'seem', 'leav', 'hand', 'perhap', 'turn', 'say', 'day', 'small', 'someon', 'see', 'arm', 'right', 'continu', 'littl', 'need', 'head', 'made', 'us', 'light', 'though', 'walk', 'ye', 'still', 'reach', 'better', 'help', 'go', 'stone', 'oﬀ', 'peopl', 'found', 'tri', 'get', 'word', 'well', 'time', 'men', 'look', 'kill', 'alway', 'even', 'start', 'man', 'hold', 'nod', 'much', 'stop', 'happen', 'voic', 'never', 'thing', 'two', 'face', 'place', 'thought', 'stood', 'come', 'stand', 'watch', 'close'}\n",
      "high threshold:  0.7999999999999999  features:  13305\n",
      "79\n",
      "{'took', 'pull', 'anoth', 'feel', 'take', 'eye', 'step', 'long', 'good', 'know', 'besid', 'away', 'enough', 'might', 'way', 'mani', 'toward', 'move', 'around', 'think', 'far', 'knew', 'back', 'done', 'ask', 'left', 'use', 'let', 'storm', 'side', 'make', 'felt', 'work', 'want', 'someth', 'seem', 'hand', 'perhap', 'turn', 'day', 'say', 'see', 'arm', 'right', 'littl', 'need', 'head', 'made', 'us', 'light', 'though', 'walk', 'ye', 'still', 'help', 'go', 'peopl', 'found', 'tri', 'get', 'well', 'time', 'men', 'look', 'alway', 'even', 'start', 'man', 'much', 'stop', 'never', 'thing', 'two', 'face', 'place', 'thought', 'stood', 'come', 'close'}\n",
      "high threshold:  0.85  features:  13326\n",
      "58\n",
      "{'peopl', 'think', 'want', 'found', 'felt', 'tri', 'get', 'time', 'well', 'someth', 'seem', 'hand', 'took', 'back', 'look', 'turn', 'ask', 'day', 'see', 'even', 'right', 'anoth', 'man', 'feel', 'take', 'left', 'use', 'need', 'much', 'let', 'eye', 'head', 'made', 'light', 'step', 'long', 'good', 'though', 'walk', 'know', 'still', 'away', 'never', 'storm', 'side', 'way', 'face', 'place', 'go', 'thought', 'make', 'toward', 'thing', 'come', 'two', 'move', 'work', 'around'}\n",
      "high threshold:  0.9  features:  13350\n",
      "34\n",
      "{'think', 'want', 'tri', 'get', 'well', 'time', 'someth', 'seem', 'hand', 'back', 'look', 'turn', 'ask', 'see', 'even', 'right', 'need', 'let', 'eye', 'head', 'made', 'long', 'though', 'know', 'still', 'away', 'way', 'go', 'make', 'thing', 'thought', 'toward', 'come', 'around'}\n",
      "high threshold:  0.95  features:  13373\n",
      "11\n",
      "{'eye', 'back', 'look', 'way', 'time', 'ask', 'see', 'someth', 'know', 'hand', 'away'}\n",
      "high threshold:  1.0  features:  13384\n",
      "0\n",
      "set()\n"
     ]
    }
   ],
   "source": [
    "points_x_max = []\n",
    "points_y_max = []\n",
    "\n",
    "for val in np.linspace(0.05, 1.0, 20):\n",
    "#     vectorized_matrix, vectorizer = vectorizeText(unpickled_df['chapter_text'], 0.01, val)\n",
    "    vectorized_matrix, vectorizer = vectorizeText(unpickled_df['chapter_text'], 1, val)\n",
    "    \n",
    "    print(\"high threshold: \", val, \" features: \", vectorized_matrix.shape[1])\n",
    "    vectorized_matrix.shape\n",
    "    \n",
    "    points_x_max.append(val)\n",
    "    points_y_max.append(vectorized_matrix.shape[1])\n",
    "    \n",
    "    print(len(vectorizer.stop_words_))\n",
    "    if val > .74:\n",
    "        print(vectorizer.stop_words_)"
   ]
  },
  {
   "cell_type": "code",
   "execution_count": 94,
   "metadata": {},
   "outputs": [
    {
     "data": {
      "text/plain": [
       "<matplotlib.collections.PathCollection at 0x7ff106d63d90>"
      ]
     },
     "execution_count": 94,
     "metadata": {},
     "output_type": "execute_result"
    },
    {
     "data": {
      "image/png": "[encoded data removed]",
      "text/plain": [
       "<Figure size 432x288 with 1 Axes>"
      ]
     },
     "metadata": {
      "needs_background": "light"
     },
     "output_type": "display_data"
    },
    {
     "data": {
      "image/png": "[encoded data removed]",
      "text/plain": [
       "<Figure size 432x288 with 1 Axes>"
      ]
     },
     "metadata": {
      "needs_background": "light"
     },
     "output_type": "display_data"
    }
   ],
   "source": [
    "plt.figure()\n",
    "plt.scatter(points_x_min, points_y_min)\n",
    "plt.figure()\n",
    "plt.scatter(points_x_max, points_y_max)"
   ]
  },
  {
   "cell_type": "code",
   "execution_count": null,
   "metadata": {},
   "outputs": [],
   "source": [
    "# stop here"
   ]
  },
  {
   "cell_type": "code",
   "execution_count": 95,
   "metadata": {},
   "outputs": [],
   "source": [
    "# vectorized_matrix, vectorizer = vectorizeText(unpickled_df['chapter_text'])\n",
    "vectorized_matrix, vectorizer = vectorizeTextIDF(unpickled_df['chapter_text'], 0.01, 0.75)"
   ]
  },
  {
   "cell_type": "code",
   "execution_count": 116,
   "metadata": {},
   "outputs": [
    {
     "name": "stdout",
     "output_type": "stream",
     "text": [
      "(461, 6)\n",
      "(6, 6377)\n"
     ]
    },
    {
     "data": {
      "text/plain": [
       "[['shallan', 'jasnah', 'veil', 'pattern', 'tyn', 'balat'],\n",
       " ['kaladin', 'teft', 'syl', 'bridg', 'moash', 'rock'],\n",
       " ['dalinar', 'sadea', 'navani', 'vision', 'gavilar', 'parshendi'],\n",
       " ['venli', 'eshonai', 'rhythm', 'human', 'attun', 'rlain'],\n",
       " ['adolin', 'veil', 'honorspren', 'sadea', 'duel', 'spren'],\n",
       " ['navani', 'raboniel', 'szeth', 'taravangian', 'sibl', 'tower']]"
      ]
     },
     "execution_count": 116,
     "metadata": {},
     "output_type": "execute_result"
    }
   ],
   "source": [
    "# non-negative matrix factorization\n",
    "nmf_model = NMF(6, random_state=84597)\n",
    "doc_topic_matrix = nmf_model.fit_transform(vectorized_matrix)\n",
    "print(doc_topic_matrix.shape)\n",
    "\n",
    "topic_word_matrix = nmf_model.components_\n",
    "print(topic_word_matrix.shape)\n",
    "\n",
    "words = vectorizer.get_feature_names()\n",
    "t = nmf_model.components_.argsort(axis=1)[:,-1:-7:-1]\n",
    "topic_words = [[words[e] for e in l] for l in t]\n",
    "topic_words"
   ]
  },
  {
   "cell_type": "code",
   "execution_count": 125,
   "metadata": {},
   "outputs": [
    {
     "name": "stdout",
     "output_type": "stream",
     "text": [
      "[0.20295699 0.         0.         0.         0.1828269  0.        ]\n"
     ]
    }
   ],
   "source": [
    "print(doc_topic_matrix[205])"
   ]
  },
  {
   "cell_type": "code",
   "execution_count": 97,
   "metadata": {},
   "outputs": [
    {
     "name": "stdout",
     "output_type": "stream",
     "text": [
      "Trying NMF with:  1  topics\n",
      "Topic 0: kaladin dalinar shallan adolin navani jasnah\n",
      "\n",
      "Trying NMF with:  2  topics\n",
      "Topic 0: dalinar shallan adolin jasnah navani veil\n",
      "Topic 1: kaladin teft syl bridg moash rock\n",
      "\n",
      "Trying NMF with:  3  topics\n",
      "Topic 0: shallan jasnah adolin veil pattern father\n",
      "Topic 1: kaladin teft syl bridg moash rock\n",
      "Topic 2: dalinar navani adolin sadea taravangian venli\n",
      "\n",
      "Trying NMF with:  4  topics\n",
      "Topic 0: shallan jasnah adolin veil pattern father\n",
      "Topic 1: kaladin teft syl bridg moash rock\n",
      "Topic 2: dalinar adolin navani sadea taravangian king\n",
      "Topic 3: venli eshonai raboniel rhythm human navani\n",
      "\n",
      "Trying NMF with:  5  topics\n",
      "Topic 0: shallan jasnah veil pattern tyn balat\n",
      "Topic 1: kaladin teft syl bridg moash rock\n",
      "Topic 2: dalinar navani taravangian sadea vision gavilar\n",
      "Topic 3: venli eshonai raboniel rhythm human rlain\n",
      "Topic 4: adolin veil honorspren sadea duel spren\n",
      "\n",
      "Trying NMF with:  6  topics\n",
      "Topic 0: shallan jasnah veil pattern tyn balat\n",
      "Topic 1: kaladin teft syl bridg moash rock\n",
      "Topic 2: dalinar sadea navani vision gavilar parshendi\n",
      "Topic 3: venli eshonai rhythm human attun rlain\n",
      "Topic 4: adolin veil honorspren sadea duel spren\n",
      "Topic 5: navani raboniel szeth taravangian sibl tower\n",
      "\n",
      "Trying NMF with:  7  topics\n",
      "Topic 0: shallan jasnah veil pattern tyn balat\n",
      "Topic 1: kaladin teft syl bridg moash rock\n",
      "Topic 2: dalinar sadea navani vision gavilar parshendi\n",
      "Topic 3: venli eshonai rhythm human attun rlain\n",
      "Topic 4: adolin veil honorspren sadea duel spren\n",
      "Topic 5: navani raboniel sibl tower fuse voidlight\n",
      "Topic 6: szeth taravangian lash odium sword nin\n",
      "\n",
      "Trying NMF with:  8  topics\n",
      "Topic 0: shallan jasnah tyn pattern balat father\n",
      "Topic 1: kaladin teft syl bridg moash rock\n",
      "Topic 2: dalinar sadea navani vision gavilar parshendi\n",
      "Topic 3: venli eshonai rhythm human attun rlain\n",
      "Topic 4: adolin sadea duel father renarin shallan\n",
      "Topic 5: navani raboniel sibl tower fuse voidlight\n",
      "Topic 6: szeth taravangian lash sword odium nin\n",
      "Topic 7: veil shallan mraiz radiant honorspren pattern\n",
      "\n",
      "Trying NMF with:  9  topics\n",
      "Topic 0: shallan jasnah tyn pattern balat father\n",
      "Topic 1: kaladin teft syl bridg moash rock\n",
      "Topic 2: dalinar sadea navani vision gavilar parshendi\n",
      "Topic 3: venli eshonai rhythm human attun rlain\n",
      "Topic 4: adolin sadea duel father renarin shallan\n",
      "Topic 5: navani raboniel sibl tower fuse voidlight\n",
      "Topic 6: szeth taravangian lash sword odium nin\n",
      "Topic 7: veil shallan mraiz radiant honorspren pattern\n",
      "Topic 8: lirin kal roshon father hesina tien\n",
      "\n"
     ]
    }
   ],
   "source": [
    "max_k = 10\n",
    "for k in range(1, max_k):\n",
    "    print(\"Trying NMF with: \", k, \" topics\")\n",
    "    nmf_model = NMF(k, random_state=84597)\n",
    "    doc_topic_matrix = nmf_model.fit_transform(vectorized_matrix)\n",
    "    topic_word_matrix = nmf_model.components_\n",
    "    t = nmf_model.components_.argsort(axis=1)[:,-1:-7:-1]\n",
    "    topic_words = [[words[e] for e in l] for l in t]\n",
    "#     print(topic_words)\n",
    "    \n",
    "    for i in range(k):\n",
    "        print(\"Topic %d:\" % i, end='')\n",
    "        for word in topic_words[i]:\n",
    "            print(' %s' % word, end='')\n",
    "        print()\n",
    "        \n",
    "    print()"
   ]
  },
  {
   "cell_type": "code",
   "execution_count": null,
   "metadata": {},
   "outputs": [],
   "source": []
  },
  {
   "cell_type": "code",
   "execution_count": 145,
   "metadata": {},
   "outputs": [
    {
     "name": "stdout",
     "output_type": "stream",
     "text": [
      "Cluster 0: kaladin syl teft bridg adolin moash\n",
      "Cluster 1: dalinar adolin navani sadea parshendi taravangian\n",
      "Cluster 2: venli eshonai raboniel szeth navani rhythm\n",
      "Cluster 3: shallan adolin jasnah veil pattern father\n"
     ]
    }
   ],
   "source": [
    "# kmeans clustering\n",
    "k_clusters = 4\n",
    "\n",
    "km = KMeans(n_clusters=k_clusters, init='k-means++', max_iter=100, n_init=10, random_state=425)\n",
    "doc_clusters = km.fit_predict(vectorized_matrix)\n",
    "\n",
    "order_centroids = km.cluster_centers_.argsort()[:,::-1]\n",
    "\n",
    "for i in range(k_clusters):\n",
    "    print(\"Cluster %d:\" % i, end='')\n",
    "    for ind in order_centroids[i, :6]:\n",
    "        print(' %s' % words[ind], end='')\n",
    "    print()"
   ]
  },
  {
   "cell_type": "code",
   "execution_count": 150,
   "metadata": {},
   "outputs": [
    {
     "data": {
      "text/plain": [
       "3"
      ]
     },
     "execution_count": 150,
     "metadata": {},
     "output_type": "execute_result"
    }
   ],
   "source": [
    "doc_clusters[205]"
   ]
  },
  {
   "cell_type": "code",
   "execution_count": 99,
   "metadata": {},
   "outputs": [
    {
     "name": "stdout",
     "output_type": "stream",
     "text": [
      "Trying kMeans clustering with:  1  clusters\n",
      "Cluster 0: kaladin dalinar shallan adolin navani venli\n",
      "\n",
      "Trying kMeans clustering with:  2  clusters\n",
      "Cluster 0: kaladin syl teft bridg dalinar moash\n",
      "Cluster 1: dalinar shallan adolin venli navani jasnah\n",
      "\n",
      "Trying kMeans clustering with:  3  clusters\n",
      "Cluster 0: shallan venli adolin jasnah veil eshonai\n",
      "Cluster 1: kaladin teft syl bridg moash adolin\n",
      "Cluster 2: dalinar navani adolin sadea parshendi taravangian\n",
      "\n",
      "Trying kMeans clustering with:  4  clusters\n",
      "Cluster 0: kaladin syl teft bridg adolin moash\n",
      "Cluster 1: venli eshonai raboniel szeth navani rhythm\n",
      "Cluster 2: dalinar adolin navani sadea parshendi taravangian\n",
      "Cluster 3: shallan adolin jasnah veil pattern father\n",
      "\n",
      "Trying kMeans clustering with:  5  clusters\n",
      "Cluster 0: shallan adolin jasnah veil pattern father\n",
      "Cluster 1: dalinar adolin navani sadea parshendi vision\n",
      "Cluster 2: venli eshonai rhythm human raboniel attun\n",
      "Cluster 3: navani szeth taravangian raboniel kal lirin\n",
      "Cluster 4: kaladin syl teft bridg moash adolin\n",
      "\n",
      "Trying kMeans clustering with:  6  clusters\n",
      "Cluster 0: szeth navani taravangian raboniel kal lirin\n",
      "Cluster 1: adolin shallan veil honorspren radiant spren\n",
      "Cluster 2: shallan jasnah tyn father pattern balat\n",
      "Cluster 3: dalinar navani adolin sadea taravangian parshendi\n",
      "Cluster 4: venli eshonai rhythm human raboniel attun\n",
      "Cluster 5: kaladin syl teft bridg moash adolin\n",
      "\n",
      "Trying kMeans clustering with:  7  clusters\n",
      "Cluster 0: kaladin teft syl bridg moash dalinar\n",
      "Cluster 1: adolin shallan kaladin honorspren veil spren\n",
      "Cluster 2: dalinar adolin navani sadea parshendi vision\n",
      "Cluster 3: szeth taravangian lash sword nin odium\n",
      "Cluster 4: navani raboniel kal kaladin lirin wit\n",
      "Cluster 5: shallan jasnah veil pattern tyn father\n",
      "Cluster 6: venli eshonai rhythm human raboniel attun\n",
      "\n",
      "Trying kMeans clustering with:  8  clusters\n",
      "Cluster 0: kaladin syl teft bridg moash dalinar\n",
      "Cluster 1: adolin shallan veil kaladin honorspren spren\n",
      "Cluster 2: shallan jasnah veil pattern tyn father\n",
      "Cluster 3: wit rysn moash jasnah wyndl ivori\n",
      "Cluster 4: navani raboniel kal lirin kaladin sibl\n",
      "Cluster 5: dalinar navani adolin sadea parshendi vision\n",
      "Cluster 6: venli eshonai rhythm human attun ulim\n",
      "Cluster 7: szeth taravangian dalinar lash odium diagram\n",
      "\n",
      "Trying kMeans clustering with:  9  clusters\n",
      "Cluster 0: taravangian kal lirin wit rysn veil\n",
      "Cluster 1: adolin shallan kaladin veil honorspren spren\n",
      "Cluster 2: dalinar navani adolin sadea parshendi vision\n",
      "Cluster 3: shallan jasnah veil pattern tyn father\n",
      "Cluster 4: raboniel navani kaladin sibl venli voidlight\n",
      "Cluster 5: eshonai venli rhythm attun thude human\n",
      "Cluster 6: kaladin teft syl bridg moash dalinar\n",
      "Cluster 7: szeth lash nin sword ki skybreak\n",
      "Cluster 8: venli raboniel ulim fuse rhythm timbr\n",
      "\n"
     ]
    }
   ],
   "source": [
    "inertias = []\n",
    "max_k = 10\n",
    "for k in range(1, max_k):\n",
    "    print(\"Trying kMeans clustering with: \", k, \" clusters\")\n",
    "    km = KMeans(n_clusters=k, init='k-means++', max_iter=100, n_init=10, random_state=425)\n",
    "    clusters = km.fit(vectorized_matrix)\n",
    "    inertias.append(clusters.inertia_)    \n",
    "    \n",
    "    order_centroids = km.cluster_centers_.argsort()[:,::-1]\n",
    "\n",
    "    for i in range(k):\n",
    "        print(\"Cluster %d:\" % i, end='')\n",
    "        for ind in order_centroids[i, :6]:\n",
    "            print(' %s' % words[ind], end='')\n",
    "        print()\n",
    "        \n",
    "    print()"
   ]
  },
  {
   "cell_type": "code",
   "execution_count": 100,
   "metadata": {},
   "outputs": [
    {
     "data": {
      "text/plain": [
       "[<matplotlib.lines.Line2D at 0x7ff105f334f0>]"
      ]
     },
     "execution_count": 100,
     "metadata": {},
     "output_type": "execute_result"
    },
    {
     "data": {
      "image/png": "[encoded data removed]",
      "text/plain": [
       "<Figure size 432x288 with 1 Axes>"
      ]
     },
     "metadata": {
      "needs_background": "light"
     },
     "output_type": "display_data"
    }
   ],
   "source": [
    "ks = [k for k in range(1,max_k)]\n",
    "plt.plot(ks, inertias)"
   ]
  },
  {
   "cell_type": "code",
   "execution_count": 101,
   "metadata": {},
   "outputs": [],
   "source": [
    "# get distances of points \n",
    "# distances  = 1 - cosine_similarity(vectorized_matrix) # same as just the cosine distance: D = 1 - S\n",
    "distances  = cosine_distances(vectorized_matrix)"
   ]
  },
  {
   "cell_type": "code",
   "execution_count": 102,
   "metadata": {},
   "outputs": [
    {
     "data": {
      "text/plain": [
       "(461, 461)"
      ]
     },
     "execution_count": 102,
     "metadata": {},
     "output_type": "execute_result"
    }
   ],
   "source": [
    "distances.shape"
   ]
  },
  {
   "cell_type": "code",
   "execution_count": 103,
   "metadata": {},
   "outputs": [
    {
     "name": "stdout",
     "output_type": "stream",
     "text": [
      "breaking at iteration 206 with stress 10802.272497824946\n",
      "Final stress value: 10230.095448\n"
     ]
    }
   ],
   "source": [
    "mds = MDS(n_components=2, dissimilarity=\"precomputed\", random_state=232, max_iter=300, verbose=1)\n",
    "positions_2d = mds.fit_transform(distances)\n",
    "print('Final stress value: %f' %mds.stress_)\n",
    "\n",
    "\n",
    "xs, ys = positions_2d[:, 0], positions_2d[:, 1]"
   ]
  },
  {
   "cell_type": "code",
   "execution_count": 104,
   "metadata": {},
   "outputs": [
    {
     "data": {
      "text/plain": [
       "(461, 2)"
      ]
     },
     "execution_count": 104,
     "metadata": {},
     "output_type": "execute_result"
    }
   ],
   "source": [
    "positions_2d.shape"
   ]
  },
  {
   "cell_type": "code",
   "execution_count": 105,
   "metadata": {},
   "outputs": [
    {
     "data": {
      "image/png": "[encoded data removed]",
      "text/plain": [
       "<Figure size 648x432 with 1 Axes>"
      ]
     },
     "metadata": {
      "needs_background": "light"
     },
     "output_type": "display_data"
    }
   ],
   "source": [
    "fig, ax = plt.subplots(figsize=(9, 6))\n",
    "ax.plot(xs, ys, marker='o', markersize=6, linestyle='', color='orange', alpha=1.0, mec=\"none\" ) \n",
    "ax.set_aspect('equal')\n",
    "\n",
    "\n",
    "# ax.tick_params(axis='x',which='both',bottom='off',top='off',labelbottom='off')\n",
    "# ax.tick_params(axis='y',which='both',left='off',right='off',labelleft='off')\n",
    "# ax.set_xlim(-0.85,1.7)\n",
    "# ax.set_ylim(-0.85,0.85)\n",
    "\n",
    "plt.show()"
   ]
  },
  {
   "cell_type": "code",
   "execution_count": null,
   "metadata": {},
   "outputs": [],
   "source": []
  }
 ],
 "metadata": {
  "kernelspec": {
   "display_name": "Python 3",
   "language": "python",
   "name": "python3"
  },
  "language_info": {
   "codemirror_mode": {
    "name": "ipython",
    "version": 3
   },
   "file_extension": ".py",
   "mimetype": "text/x-python",
   "name": "python",
   "nbconvert_exporter": "python",
   "pygments_lexer": "ipython3",
   "version": "3.8.5"
  }
 },
 "nbformat": 4,
 "nbformat_minor": 4
}
