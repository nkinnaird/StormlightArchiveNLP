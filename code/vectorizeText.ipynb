{
 "cells": [
  {
   "cell_type": "code",
   "execution_count": 64,
   "metadata": {},
   "outputs": [],
   "source": [
    "import pandas as pd\n",
    "import numpy as np\n",
    "from nltk.corpus import stopwords\n",
    "stop_words = set(stopwords.words('english'))\n",
    "from sklearn.feature_extraction.text import CountVectorizer, TfidfVectorizer\n",
    "from sklearn.decomposition import NMF\n",
    "from sklearn.cluster import KMeans\n",
    "import matplotlib.pyplot as plt"
   ]
  },
  {
   "cell_type": "code",
   "execution_count": 81,
   "metadata": {},
   "outputs": [
    {
     "name": "stdout",
     "output_type": "stream",
     "text": [
      "{'most', 'you', 'doesn', 'isn', 'up', 'own', 'ourselves', \"you'll\", 'being', 'be', 'him', 'there', 'on', \"isn't\", 'once', 'yourself', 'o', 'he', 'as', 've', 'them', 'until', \"won't\", 'some', 'then', \"wasn't\", 'hers', 'am', 'will', 'that', 's', 'from', 'having', 'ours', 'during', 'no', 'had', 'all', 'herself', 'how', \"haven't\", 'd', 'our', \"hasn't\", \"weren't\", \"it's\", 'aren', 'her', 'over', 'under', 'a', \"aren't\", \"didn't\", 'above', 'so', 'theirs', 'these', 'we', 'where', 't', \"couldn't\", 'm', 'wasn', 'than', 'just', 'an', 'between', 'not', 'for', 'such', 'doing', \"needn't\", 'can', 'll', 'before', \"hadn't\", 'below', 'couldn', 'other', \"mustn't\", 'further', \"that'll\", 'weren', 'yours', 'myself', 'yourselves', 'whom', \"shan't\", \"you've\", 'those', 'more', \"mightn't\", 'is', 'but', 'your', 'same', 'didn', 'the', \"you'd\", 'down', 'nor', 'only', 'any', 'what', 'their', 'of', 'too', 'both', 'if', 'while', 'one', 'mightn', 'it', \"you're\", 'needn', 'off', 'out', 'haven', 'with', 'did', 'shouldn', 'was', 'like', 'ma', 'because', 're', 'wouldn', 'after', 'shan', 'mustn', 'ain', 'my', 'do', 'through', 'would', 'should', 'to', 'me', \"doesn't\", 'could', 'his', 'here', 'in', 'now', 'when', 'are', 'why', 'each', 'themselves', 'about', 'won', \"should've\", 'its', 'or', \"shouldn't\", 'have', 'she', 'i', 'against', 'don', 'who', 'itself', 'himself', 'were', 'does', 'by', 'y', 'hadn', 'very', 'this', 'which', 'been', 'into', 'they', 'has', 'and', \"don't\", 'hasn', 'at', 'again', \"wouldn't\", 'said', 'few', \"she's\"}\n"
     ]
    }
   ],
   "source": [
    "additional_stop_words = ['like', 'said', 'would', 'could', 'should', 'one']\n",
    "my_stop_words = stop_words.union(additional_stop_words)\n",
    "print(my_stop_words)"
   ]
  },
  {
   "cell_type": "code",
   "execution_count": 82,
   "metadata": {},
   "outputs": [],
   "source": [
    "# get counts and remove stop words\n",
    "def vectorizeText(inputText):\n",
    "#     cv = CountVectorizer(stop_words='english')\n",
    "    cv = CountVectorizer(stop_words=my_stop_words)\n",
    "    X = cv.fit_transform(inputText)\n",
    "    \n",
    "    print(X.shape)\n",
    "    print(type(X))\n",
    "    \n",
    "    return X, cv\n",
    "\n",
    "#     df_cv = pd.DataFrame(X.toarray(), columns=cv.get_feature_names())  \n",
    "#     df_cv.info()\n",
    "#     print(df_cv.columns)\n",
    "#     print(df_cv)\n",
    "\n",
    "# get term frequencies and remove stop words\n",
    "def vectorizeTextIDF(inputText):\n",
    "#     cv_tfidf = TfidfVectorizer(stop_words='english')\n",
    "    cv_tfidf = TfidfVectorizer(stop_words=my_stop_words)\n",
    "    X_tfidf = cv_tfidf.fit_transform(inputText)\n",
    "    \n",
    "    print(X_tfidf.shape)\n",
    "    print(type(X_tfidf))\n",
    "    \n",
    "    return X_tfidf, cv_tfidf\n",
    "    \n",
    "#     df_tfidf = pd.DataFrame(X_tfidf.toarray(), columns=cv_tfidf.get_feature_names())\n",
    "#     df_tfidf.info()\n",
    "#     print(df_tfidf.columns)\n",
    "#     print(df_tfidf)      \n",
    "\n"
   ]
  },
  {
   "cell_type": "code",
   "execution_count": 8,
   "metadata": {},
   "outputs": [
    {
     "data": {
      "text/html": [
       "<div>\n",
       "<style scoped>\n",
       "    .dataframe tbody tr th:only-of-type {\n",
       "        vertical-align: middle;\n",
       "    }\n",
       "\n",
       "    .dataframe tbody tr th {\n",
       "        vertical-align: top;\n",
       "    }\n",
       "\n",
       "    .dataframe thead th {\n",
       "        text-align: right;\n",
       "    }\n",
       "</style>\n",
       "<table border=\"1\" class=\"dataframe\">\n",
       "  <thead>\n",
       "    <tr style=\"text-align: right;\">\n",
       "      <th></th>\n",
       "      <th>chapter_text</th>\n",
       "      <th>book</th>\n",
       "      <th>chapter</th>\n",
       "    </tr>\n",
       "  </thead>\n",
       "  <tbody>\n",
       "    <tr>\n",
       "      <th>0</th>\n",
       "      <td>prelud stormlight archiv kalak round rocki st...</td>\n",
       "      <td>1</td>\n",
       "      <td>1</td>\n",
       "    </tr>\n",
       "    <tr>\n",
       "      <th>1</th>\n",
       "      <td>love men frigid thing mountain stream three s...</td>\n",
       "      <td>1</td>\n",
       "      <td>2</td>\n",
       "    </tr>\n",
       "    <tr>\n",
       "      <th>2</th>\n",
       "      <td>kill bastard kill sun still hot die day week ...</td>\n",
       "      <td>1</td>\n",
       "      <td>3</td>\n",
       "    </tr>\n",
       "    <tr>\n",
       "      <th>3</th>\n",
       "      <td>ten order love forsaken us almighti shard sou...</td>\n",
       "      <td>1</td>\n",
       "      <td>4</td>\n",
       "    </tr>\n",
       "    <tr>\n",
       "      <th>4</th>\n",
       "      <td>man stood watch homeland fall dust water surg...</td>\n",
       "      <td>1</td>\n",
       "      <td>5</td>\n",
       "    </tr>\n",
       "    <tr>\n",
       "      <th>...</th>\n",
       "      <td>...</td>\n",
       "      <td>...</td>\n",
       "      <td>...</td>\n",
       "    </tr>\n",
       "    <tr>\n",
       "      <th>456</th>\n",
       "      <td>discard help potenti ﬁnal passion el ﬁrst fin...</td>\n",
       "      <td>4</td>\n",
       "      <td>127</td>\n",
       "    </tr>\n",
       "    <tr>\n",
       "      <th>457</th>\n",
       "      <td>ye look forward rule human el ﬁrst final ten ...</td>\n",
       "      <td>4</td>\n",
       "      <td>128</td>\n",
       "    </tr>\n",
       "    <tr>\n",
       "      <th>458</th>\n",
       "      <td>nearli much look forward serv newest odium re...</td>\n",
       "      <td>4</td>\n",
       "      <td>129</td>\n",
       "    </tr>\n",
       "    <tr>\n",
       "      <th>459</th>\n",
       "      <td>fourteen month ago eshonai hit ground chasm f...</td>\n",
       "      <td>4</td>\n",
       "      <td>130</td>\n",
       "    </tr>\n",
       "    <tr>\n",
       "      <th>460</th>\n",
       "      <td>wit stroll hallway elhokar old palac shatter ...</td>\n",
       "      <td>4</td>\n",
       "      <td>131</td>\n",
       "    </tr>\n",
       "  </tbody>\n",
       "</table>\n",
       "<p>461 rows × 3 columns</p>\n",
       "</div>"
      ],
      "text/plain": [
       "                                          chapter_text  book  chapter\n",
       "0     prelud stormlight archiv kalak round rocki st...     1        1\n",
       "1     love men frigid thing mountain stream three s...     1        2\n",
       "2     kill bastard kill sun still hot die day week ...     1        3\n",
       "3     ten order love forsaken us almighti shard sou...     1        4\n",
       "4     man stood watch homeland fall dust water surg...     1        5\n",
       "..                                                 ...   ...      ...\n",
       "456   discard help potenti ﬁnal passion el ﬁrst fin...     4      127\n",
       "457   ye look forward rule human el ﬁrst final ten ...     4      128\n",
       "458   nearli much look forward serv newest odium re...     4      129\n",
       "459   fourteen month ago eshonai hit ground chasm f...     4      130\n",
       "460   wit stroll hallway elhokar old palac shatter ...     4      131\n",
       "\n",
       "[461 rows x 3 columns]"
      ]
     },
     "execution_count": 8,
     "metadata": {},
     "output_type": "execute_result"
    }
   ],
   "source": [
    "unpickled_df = pd.read_pickle(\"./sla_chapter_text.pkl\")\n",
    "unpickled_df"
   ]
  },
  {
   "cell_type": "code",
   "execution_count": 83,
   "metadata": {},
   "outputs": [
    {
     "name": "stdout",
     "output_type": "stream",
     "text": [
      "(461, 13384)\n",
      "<class 'scipy.sparse.csr.csr_matrix'>\n"
     ]
    }
   ],
   "source": [
    "# doc_word, vectorizer = vectorizeText(unpickled_df['chapter_text'])\n",
    "doc_word, vectorizer = vectorizeTextIDF(unpickled_df['chapter_text'])"
   ]
  },
  {
   "cell_type": "code",
   "execution_count": 84,
   "metadata": {},
   "outputs": [
    {
     "data": {
      "text/plain": [
       "(461, 3)"
      ]
     },
     "execution_count": 84,
     "metadata": {},
     "output_type": "execute_result"
    }
   ],
   "source": [
    "# non-negative matrix factorization\n",
    "nmf_model = NMF(3)\n",
    "doc_topic = nmf_model.fit_transform(doc_word)\n",
    "doc_topic.shape"
   ]
  },
  {
   "cell_type": "code",
   "execution_count": 85,
   "metadata": {},
   "outputs": [
    {
     "data": {
      "text/plain": [
       "(3, 13384)"
      ]
     },
     "execution_count": 85,
     "metadata": {},
     "output_type": "execute_result"
    }
   ],
   "source": [
    "topic_word = nmf_model.components_\n",
    "topic_word.shape"
   ]
  },
  {
   "cell_type": "code",
   "execution_count": 86,
   "metadata": {},
   "outputs": [
    {
     "data": {
      "text/plain": [
       "[['shallan', 'jasnah', 'adolin', 'veil', 'pattern', 'look'],\n",
       " ['kaladin', 'teft', 'syl', 'bridg', 'moash', 'rock'],\n",
       " ['dalinar', 'navani', 'adolin', 'venli', 'taravangian', 'sadea']]"
      ]
     },
     "execution_count": 86,
     "metadata": {},
     "output_type": "execute_result"
    }
   ],
   "source": [
    "words = vectorizer.get_feature_names()\n",
    "t = nmf_model.components_.argsort(axis=1)[:,-1:-7:-1]\n",
    "topic_words = [[words[e] for e in l] for l in t]\n",
    "topic_words"
   ]
  },
  {
   "cell_type": "code",
   "execution_count": 87,
   "metadata": {},
   "outputs": [
    {
     "name": "stdout",
     "output_type": "stream",
     "text": [
      "Cluster 0: kaladin syl teft bridg moash back\n",
      "Cluster 1: dalinar adolin navani sadea man parshendi\n",
      "Cluster 2: shallan adolin jasnah veil pattern look\n",
      "Cluster 3: venli eshonai raboniel szeth navani rhythm\n"
     ]
    }
   ],
   "source": [
    "# kmeans clustering\n",
    "k_clusters = 4\n",
    "\n",
    "km = KMeans(n_clusters=k_clusters, init='k-means++', max_iter=100, n_init=10)\n",
    "km.fit(doc_word)\n",
    "\n",
    "order_centroids = km.cluster_centers_.argsort()[:,::-1]\n",
    "\n",
    "for i in range(k_clusters):\n",
    "    print(\"Cluster %d:\" % i, end='')\n",
    "    for ind in order_centroids[i, :6]:\n",
    "        print(' %s' % words[ind], end='')\n",
    "    print()"
   ]
  },
  {
   "cell_type": "code",
   "execution_count": 88,
   "metadata": {},
   "outputs": [],
   "source": [
    "inertias = []\n",
    "max_k = 30\n",
    "for k in range(1, max_k):\n",
    "    km = KMeans(n_clusters=k, init='k-means++', max_iter=100, n_init=10)\n",
    "    clusters = km.fit(doc_word)\n",
    "    inertias.append(clusters.inertia_)    "
   ]
  },
  {
   "cell_type": "code",
   "execution_count": 89,
   "metadata": {},
   "outputs": [
    {
     "data": {
      "text/plain": [
       "[<matplotlib.lines.Line2D at 0x7fd3defc1eb0>]"
      ]
     },
     "execution_count": 89,
     "metadata": {},
     "output_type": "execute_result"
    },
    {
     "data": {
      "image/png": "[encoded data removed]",
      "text/plain": [
       "<Figure size 432x288 with 1 Axes>"
      ]
     },
     "metadata": {
      "needs_background": "light"
     },
     "output_type": "display_data"
    }
   ],
   "source": [
    "ks = [k for k in range(1,max_k)]\n",
    "plt.plot(ks, inertias)"
   ]
  },
  {
   "cell_type": "code",
   "execution_count": null,
   "metadata": {},
   "outputs": [],
   "source": []
  },
  {
   "cell_type": "code",
   "execution_count": null,
   "metadata": {},
   "outputs": [],
   "source": []
  }
 ],
 "metadata": {
  "kernelspec": {
   "display_name": "Python 3",
   "language": "python",
   "name": "python3"
  },
  "language_info": {
   "codemirror_mode": {
    "name": "ipython",
    "version": 3
   },
   "file_extension": ".py",
   "mimetype": "text/x-python",
   "name": "python",
   "nbconvert_exporter": "python",
   "pygments_lexer": "ipython3",
   "version": "3.8.5"
  }
 },
 "nbformat": 4,
 "nbformat_minor": 4
}
