{
 "cells": [
  {
   "cell_type": "code",
   "execution_count": null,
   "metadata": {},
   "outputs": [],
   "source": [
    "# file used for initial EDA into NLP, various models, parameters, etc."
   ]
  },
  {
   "cell_type": "code",
   "execution_count": 71,
   "metadata": {},
   "outputs": [],
   "source": [
    "import pandas as pd\n",
    "import numpy as np\n",
    "\n",
    "from nltk.corpus import stopwords\n",
    "stop_words = set(stopwords.words('english'))\n",
    "from sklearn.feature_extraction.text import CountVectorizer, TfidfVectorizer\n",
    "from sklearn.decomposition import NMF\n",
    "from sklearn.cluster import KMeans\n",
    "from sklearn.manifold import MDS, TSNE\n",
    "from sklearn.metrics.pairwise import cosine_similarity, cosine_distances\n",
    "\n",
    "from gensim import corpora, models, similarities, matutils\n",
    "# logging for gensim (set to INFO)\n",
    "import logging\n",
    "logging.basicConfig(filename='gensim.log', format='%(asctime)s : %(levelname)s : %(message)s', level=logging.INFO)\n",
    "\n",
    "from textblob import TextBlob\n",
    "\n",
    "import matplotlib.pyplot as plt\n",
    "import seaborn as sns"
   ]
  },
  {
   "cell_type": "code",
   "execution_count": 2,
   "metadata": {},
   "outputs": [
    {
     "name": "stdout",
     "output_type": "stream",
     "text": [
      "{'for', 'after', 'wouldn', 'which', 'were', 'and', \"you've\", 'd', 'myself', 'will', 'until', 'whom', 'would', 'who', 'his', 'itself', 'like', 'ours', 'ourselves', 'over', 'll', \"she's\", 'having', \"isn't\", 'own', \"mustn't\", 'they', 'now', 'into', \"you'll\", \"don't\", \"shouldn't\", 'himself', 'their', 'an', 'is', \"that'll\", 'during', \"wouldn't\", 'yourselves', 'mustn', 'there', 'theirs', 'we', 'why', 'not', 'when', 'from', 'i', 've', 'hers', 'both', \"you'd\", 'just', 'yourself', 'in', 'how', 'any', 'too', 'weren', 'very', 'out', 'she', 'the', 'all', 'hadn', 'hasn', 'doing', 'can', 'one', 'with', 'above', \"should've\", 'up', 'off', 'be', 'wasn', 'them', 'didn', 'against', 'some', \"needn't\", 'ain', 'under', 'through', 'y', 'said', 'once', 'does', 'isn', 'down', \"couldn't\", \"shan't\", 'been', 'before', 'are', 'what', 'such', 'so', 'our', 'shouldn', 'where', 'should', 'this', 'more', 'you', 'at', 'being', \"hasn't\", 'doesn', 'nor', 'here', 'mightn', 'needn', \"wasn't\", 'or', 'm', 'did', 'do', 's', 'he', 'me', 'shan', 'couldn', 'because', \"aren't\", 'it', 'aren', 'has', 'few', \"hadn't\", 'on', 'same', \"doesn't\", 'these', 'o', \"mightn't\", 'was', 'themselves', 'below', 'that', 'herself', \"it's\", 'its', 'than', 'about', 'if', 'each', 'yours', 't', 'my', 'had', 'don', \"won't\", \"didn't\", 'am', 'a', 'only', 're', 'haven', 'won', \"weren't\", 'to', 'between', \"haven't\", 'most', 'as', 'while', 'those', 'him', 'could', 'but', 'her', 'have', 'of', 'by', 'ma', 'other', 'further', 'no', \"you're\", 'again', 'then', 'your'}\n"
     ]
    }
   ],
   "source": [
    "additional_stop_words = ['like', 'said', 'would', 'could', 'should', 'one']\n",
    "my_stop_words = stop_words.union(additional_stop_words)\n",
    "print(my_stop_words)"
   ]
  },
  {
   "cell_type": "code",
   "execution_count": 3,
   "metadata": {},
   "outputs": [],
   "source": [
    "# get counts and remove stop words\n",
    "def vectorizeText(inputText, min_df=1, max_df=1.0):\n",
    "    cv = CountVectorizer(stop_words=my_stop_words, min_df=min_df, max_df=max_df)\n",
    "    X = cv.fit_transform(inputText)\n",
    "    \n",
    "    return X, cv\n",
    "\n",
    "# get term frequencies and remove stop words\n",
    "def vectorizeTextIDF(inputText, min_df=1, max_df=1.0):\n",
    "    cv_tfidf = TfidfVectorizer(stop_words=my_stop_words, min_df=min_df, max_df=max_df)\n",
    "    X_tfidf = cv_tfidf.fit_transform(inputText)\n",
    "    \n",
    "    return X_tfidf, cv_tfidf   "
   ]
  },
  {
   "cell_type": "code",
   "execution_count": 4,
   "metadata": {},
   "outputs": [
    {
     "data": {
      "text/html": [
       "<div>\n",
       "<style scoped>\n",
       "    .dataframe tbody tr th:only-of-type {\n",
       "        vertical-align: middle;\n",
       "    }\n",
       "\n",
       "    .dataframe tbody tr th {\n",
       "        vertical-align: top;\n",
       "    }\n",
       "\n",
       "    .dataframe thead th {\n",
       "        text-align: right;\n",
       "    }\n",
       "</style>\n",
       "<table border=\"1\" class=\"dataframe\">\n",
       "  <thead>\n",
       "    <tr style=\"text-align: right;\">\n",
       "      <th></th>\n",
       "      <th>chapter_text</th>\n",
       "      <th>book</th>\n",
       "      <th>chapter</th>\n",
       "    </tr>\n",
       "  </thead>\n",
       "  <tbody>\n",
       "    <tr>\n",
       "      <th>0</th>\n",
       "      <td>prelud stormlight archiv kalak round rocki st...</td>\n",
       "      <td>1</td>\n",
       "      <td>1</td>\n",
       "    </tr>\n",
       "    <tr>\n",
       "      <th>1</th>\n",
       "      <td>love men frigid thing mountain stream three s...</td>\n",
       "      <td>1</td>\n",
       "      <td>2</td>\n",
       "    </tr>\n",
       "    <tr>\n",
       "      <th>2</th>\n",
       "      <td>kill bastard kill sun still hot die day week ...</td>\n",
       "      <td>1</td>\n",
       "      <td>3</td>\n",
       "    </tr>\n",
       "    <tr>\n",
       "      <th>3</th>\n",
       "      <td>ten order love forsaken us almighti shard sou...</td>\n",
       "      <td>1</td>\n",
       "      <td>4</td>\n",
       "    </tr>\n",
       "    <tr>\n",
       "      <th>4</th>\n",
       "      <td>man stood watch homeland fall dust water surg...</td>\n",
       "      <td>1</td>\n",
       "      <td>5</td>\n",
       "    </tr>\n",
       "    <tr>\n",
       "      <th>...</th>\n",
       "      <td>...</td>\n",
       "      <td>...</td>\n",
       "      <td>...</td>\n",
       "    </tr>\n",
       "    <tr>\n",
       "      <th>456</th>\n",
       "      <td>discard help potenti ﬁnal passion el ﬁrst fin...</td>\n",
       "      <td>4</td>\n",
       "      <td>127</td>\n",
       "    </tr>\n",
       "    <tr>\n",
       "      <th>457</th>\n",
       "      <td>ye look forward rule human el ﬁrst final ten ...</td>\n",
       "      <td>4</td>\n",
       "      <td>128</td>\n",
       "    </tr>\n",
       "    <tr>\n",
       "      <th>458</th>\n",
       "      <td>nearli much look forward serv newest odium re...</td>\n",
       "      <td>4</td>\n",
       "      <td>129</td>\n",
       "    </tr>\n",
       "    <tr>\n",
       "      <th>459</th>\n",
       "      <td>fourteen month ago eshonai hit ground chasm f...</td>\n",
       "      <td>4</td>\n",
       "      <td>130</td>\n",
       "    </tr>\n",
       "    <tr>\n",
       "      <th>460</th>\n",
       "      <td>wit stroll hallway elhokar old palac shatter ...</td>\n",
       "      <td>4</td>\n",
       "      <td>131</td>\n",
       "    </tr>\n",
       "  </tbody>\n",
       "</table>\n",
       "<p>461 rows × 3 columns</p>\n",
       "</div>"
      ],
      "text/plain": [
       "                                          chapter_text  book  chapter\n",
       "0     prelud stormlight archiv kalak round rocki st...     1        1\n",
       "1     love men frigid thing mountain stream three s...     1        2\n",
       "2     kill bastard kill sun still hot die day week ...     1        3\n",
       "3     ten order love forsaken us almighti shard sou...     1        4\n",
       "4     man stood watch homeland fall dust water surg...     1        5\n",
       "..                                                 ...   ...      ...\n",
       "456   discard help potenti ﬁnal passion el ﬁrst fin...     4      127\n",
       "457   ye look forward rule human el ﬁrst final ten ...     4      128\n",
       "458   nearli much look forward serv newest odium re...     4      129\n",
       "459   fourteen month ago eshonai hit ground chasm f...     4      130\n",
       "460   wit stroll hallway elhokar old palac shatter ...     4      131\n",
       "\n",
       "[461 rows x 3 columns]"
      ]
     },
     "execution_count": 4,
     "metadata": {},
     "output_type": "execute_result"
    }
   ],
   "source": [
    "unpickled_df = pd.read_pickle(\"./sla_chapter_text.pkl\")\n",
    "unpickled_df"
   ]
  },
  {
   "cell_type": "code",
   "execution_count": 5,
   "metadata": {},
   "outputs": [
    {
     "data": {
      "text/html": [
       "<div>\n",
       "<style scoped>\n",
       "    .dataframe tbody tr th:only-of-type {\n",
       "        vertical-align: middle;\n",
       "    }\n",
       "\n",
       "    .dataframe tbody tr th {\n",
       "        vertical-align: top;\n",
       "    }\n",
       "\n",
       "    .dataframe thead th {\n",
       "        text-align: right;\n",
       "    }\n",
       "</style>\n",
       "<table border=\"1\" class=\"dataframe\">\n",
       "  <thead>\n",
       "    <tr style=\"text-align: right;\">\n",
       "      <th></th>\n",
       "      <th>chapter_text</th>\n",
       "      <th>book</th>\n",
       "      <th>chapter</th>\n",
       "    </tr>\n",
       "  </thead>\n",
       "  <tbody>\n",
       "    <tr>\n",
       "      <th>200</th>\n",
       "      <td>moment notwithstand honestli say book brew si...</td>\n",
       "      <td>3</td>\n",
       "      <td>9</td>\n",
       "    </tr>\n",
       "    <tr>\n",
       "      <th>201</th>\n",
       "      <td>sum experi point moment decis oathbring prefa...</td>\n",
       "      <td>3</td>\n",
       "      <td>10</td>\n",
       "    </tr>\n",
       "    <tr>\n",
       "      <th>202</th>\n",
       "      <td>perhap heresi stretch back day childhood idea...</td>\n",
       "      <td>3</td>\n",
       "      <td>11</td>\n",
       "    </tr>\n",
       "    <tr>\n",
       "      <th>203</th>\n",
       "      <td>thirti three year ago dalinar danc one foot m...</td>\n",
       "      <td>3</td>\n",
       "      <td>12</td>\n",
       "    </tr>\n",
       "    <tr>\n",
       "      <th>204</th>\n",
       "      <td>ask forgiv even understand oathbring prefac d...</td>\n",
       "      <td>3</td>\n",
       "      <td>13</td>\n",
       "    </tr>\n",
       "    <tr>\n",
       "      <th>205</th>\n",
       "      <td>ask read listen word oathbring prefac shallan...</td>\n",
       "      <td>3</td>\n",
       "      <td>14</td>\n",
       "    </tr>\n",
       "    <tr>\n",
       "      <th>206</th>\n",
       "      <td>record hold noth back tri shi away diﬃcult to...</td>\n",
       "      <td>3</td>\n",
       "      <td>15</td>\n",
       "    </tr>\n",
       "    <tr>\n",
       "      <th>207</th>\n",
       "      <td>express direct even brutal truth must know do...</td>\n",
       "      <td>3</td>\n",
       "      <td>16</td>\n",
       "    </tr>\n",
       "    <tr>\n",
       "      <th>208</th>\n",
       "      <td>come lesson oathbring prefac legend rest ston...</td>\n",
       "      <td>3</td>\n",
       "      <td>17</td>\n",
       "    </tr>\n",
       "    <tr>\n",
       "      <th>209</th>\n",
       "      <td>lesson claim abl teach experi great teacher m...</td>\n",
       "      <td>3</td>\n",
       "      <td>18</td>\n",
       "    </tr>\n",
       "    <tr>\n",
       "      <th>210</th>\n",
       "      <td>spice describ must tast oathbring prefac shal...</td>\n",
       "      <td>3</td>\n",
       "      <td>19</td>\n",
       "    </tr>\n",
       "    <tr>\n",
       "      <th>211</th>\n",
       "      <td>thirti one year ago candl ﬂicker tabl dalinar...</td>\n",
       "      <td>3</td>\n",
       "      <td>20</td>\n",
       "    </tr>\n",
       "    <tr>\n",
       "      <th>212</th>\n",
       "      <td>howev danger spice warn tast lightli would le...</td>\n",
       "      <td>3</td>\n",
       "      <td>21</td>\n",
       "    </tr>\n",
       "    <tr>\n",
       "      <th>213</th>\n",
       "      <td>storytel entertain whimsic yarn oathbring pre...</td>\n",
       "      <td>3</td>\n",
       "      <td>22</td>\n",
       "    </tr>\n",
       "    <tr>\n",
       "      <th>214</th>\n",
       "      <td>philosoph intrigu pierc question oathbring pr...</td>\n",
       "      <td>3</td>\n",
       "      <td>23</td>\n",
       "    </tr>\n",
       "    <tr>\n",
       "      <th>215</th>\n",
       "      <td>poet delight clever allus oathbring prefac go...</td>\n",
       "      <td>3</td>\n",
       "      <td>24</td>\n",
       "    </tr>\n",
       "    <tr>\n",
       "      <th>216</th>\n",
       "      <td>doubt smarter relat happen done let draw conc...</td>\n",
       "      <td>3</td>\n",
       "      <td>25</td>\n",
       "    </tr>\n",
       "    <tr>\n",
       "      <th>217</th>\n",
       "      <td>confess murder pain kill someon love dearli o...</td>\n",
       "      <td>3</td>\n",
       "      <td>26</td>\n",
       "    </tr>\n",
       "    <tr>\n",
       "      <th>218</th>\n",
       "      <td>twenti nine year ago incens burn brazier larg...</td>\n",
       "      <td>3</td>\n",
       "      <td>27</td>\n",
       "    </tr>\n",
       "    <tr>\n",
       "      <th>219</th>\n",
       "      <td>confess heresi back thing said regardless ard...</td>\n",
       "      <td>3</td>\n",
       "      <td>28</td>\n",
       "    </tr>\n",
       "  </tbody>\n",
       "</table>\n",
       "</div>"
      ],
      "text/plain": [
       "                                          chapter_text  book  chapter\n",
       "200   moment notwithstand honestli say book brew si...     3        9\n",
       "201   sum experi point moment decis oathbring prefa...     3       10\n",
       "202   perhap heresi stretch back day childhood idea...     3       11\n",
       "203   thirti three year ago dalinar danc one foot m...     3       12\n",
       "204   ask forgiv even understand oathbring prefac d...     3       13\n",
       "205   ask read listen word oathbring prefac shallan...     3       14\n",
       "206   record hold noth back tri shi away diﬃcult to...     3       15\n",
       "207   express direct even brutal truth must know do...     3       16\n",
       "208   come lesson oathbring prefac legend rest ston...     3       17\n",
       "209   lesson claim abl teach experi great teacher m...     3       18\n",
       "210   spice describ must tast oathbring prefac shal...     3       19\n",
       "211   thirti one year ago candl ﬂicker tabl dalinar...     3       20\n",
       "212   howev danger spice warn tast lightli would le...     3       21\n",
       "213   storytel entertain whimsic yarn oathbring pre...     3       22\n",
       "214   philosoph intrigu pierc question oathbring pr...     3       23\n",
       "215   poet delight clever allus oathbring prefac go...     3       24\n",
       "216   doubt smarter relat happen done let draw conc...     3       25\n",
       "217   confess murder pain kill someon love dearli o...     3       26\n",
       "218   twenti nine year ago incens burn brazier larg...     3       27\n",
       "219   confess heresi back thing said regardless ard...     3       28"
      ]
     },
     "execution_count": 5,
     "metadata": {},
     "output_type": "execute_result"
    }
   ],
   "source": [
    "unpickled_df.iloc[200:220]"
   ]
  },
  {
   "cell_type": "code",
   "execution_count": 6,
   "metadata": {},
   "outputs": [
    {
     "name": "stdout",
     "output_type": "stream",
     "text": [
      "low threshold:  0.0  features:  13384\n",
      "low threshold:  0.01  features:  6484\n",
      "low threshold:  0.02  features:  4670\n",
      "low threshold:  0.03  features:  3961\n",
      "low threshold:  0.04  features:  3381\n",
      "low threshold:  0.05  features:  2972\n",
      "low threshold:  0.06  features:  2725\n",
      "low threshold:  0.07  features:  2473\n",
      "low threshold:  0.08  features:  2312\n",
      "low threshold:  0.09  features:  2121\n",
      "low threshold:  0.1  features:  1963\n",
      "low threshold:  0.11  features:  1846\n",
      "low threshold:  0.12  features:  1715\n",
      "low threshold:  0.13  features:  1619\n",
      "low threshold:  0.14  features:  1525\n",
      "low threshold:  0.15  features:  1436\n",
      "low threshold:  0.16  features:  1373\n",
      "low threshold:  0.17  features:  1301\n",
      "low threshold:  0.18  features:  1239\n",
      "low threshold:  0.19  features:  1179\n",
      "low threshold:  0.2  features:  1095\n"
     ]
    }
   ],
   "source": [
    "# look at vectorized text with various max_df and min_df options\n",
    "\n",
    "points_x_min = []\n",
    "points_y_min = []\n",
    "\n",
    "for val in np.linspace(0, .2, 21):\n",
    "    vectorized_matrix, vectorizer = vectorizeText(unpickled_df['chapter_text'], val, 1.0)\n",
    "    \n",
    "    print(\"low threshold: \", val, \" features: \", vectorized_matrix.shape[1])\n",
    "    vectorized_matrix.shape\n",
    "    \n",
    "    points_x_min.append(val)\n",
    "    points_y_min.append(vectorized_matrix.shape[1])\n",
    "    \n",
    "#     if val < 0.01:\n",
    "#     print(len(vectorizer.stop_words_))"
   ]
  },
  {
   "cell_type": "code",
   "execution_count": 7,
   "metadata": {},
   "outputs": [
    {
     "name": "stdout",
     "output_type": "stream",
     "text": [
      "high threshold:  0.05  features:  10412\n",
      "2972\n",
      "high threshold:  0.1  features:  11421\n",
      "1963\n",
      "high threshold:  0.15  features:  11948\n",
      "1436\n",
      "high threshold:  0.2  features:  12289\n",
      "1095\n",
      "high threshold:  0.25  features:  12493\n",
      "891\n",
      "high threshold:  0.3  features:  12661\n",
      "723\n",
      "high threshold:  0.35  features:  12790\n",
      "594\n",
      "high threshold:  0.39999999999999997  features:  12887\n",
      "497\n",
      "high threshold:  0.44999999999999996  features:  12963\n",
      "421\n",
      "high threshold:  0.49999999999999994  features:  13030\n",
      "354\n",
      "high threshold:  0.5499999999999999  features:  13094\n",
      "290\n",
      "high threshold:  0.6  features:  13152\n",
      "232\n",
      "high threshold:  0.65  features:  13196\n",
      "188\n",
      "high threshold:  0.7  features:  13236\n",
      "148\n",
      "high threshold:  0.75  features:  13277\n",
      "107\n",
      "{'us', 'left', 'ask', 'give', 'continu', 'want', 'leav', 'peopl', 'help', 'place', 'light', 'man', 'two', 'need', 'stand', 'far', 'away', 'might', 'arm', 'someon', 'come', 'wait', 'think', 'alway', 'let', 'stood', 'start', 'get', 'voic', 'open', 'face', 'done', 'besid', 'men', 'thing', 'anoth', 'forc', 'go', 'right', 'care', 'stop', 'felt', 'long', 'see', 'call', 'nod', 'know', 'well', 'head', 'oﬀ', 'use', 'though', 'even', 'turn', 'walk', 'last', 'move', 'watch', 'much', 'perhap', 'enough', 'happen', 'work', 'feel', 'word', 'never', 'took', 'make', 'storm', 'hand', 'someth', 'day', 'thought', 'stone', 'step', 'good', 'toward', 'littl', 'back', 'look', 'part', 'behind', 'take', 'say', 'knew', 'without', 'tell', 'found', 'way', 'keep', 'still', 'better', 'close', 'made', 'seem', 'reach', 'side', 'time', 'small', 'pull', 'around', 'mani', 'tri', 'eye', 'kill', 'hold', 'ye'}\n",
      "high threshold:  0.7999999999999999  features:  13305\n",
      "79\n",
      "{'us', 'left', 'ask', 'want', 'peopl', 'help', 'place', 'light', 'man', 'two', 'need', 'far', 'away', 'might', 'arm', 'come', 'think', 'alway', 'let', 'stood', 'start', 'get', 'face', 'done', 'besid', 'men', 'thing', 'anoth', 'go', 'right', 'stop', 'felt', 'long', 'see', 'know', 'well', 'head', 'use', 'though', 'even', 'turn', 'walk', 'move', 'much', 'perhap', 'enough', 'work', 'feel', 'never', 'took', 'make', 'storm', 'hand', 'someth', 'day', 'thought', 'step', 'good', 'toward', 'littl', 'back', 'look', 'take', 'say', 'knew', 'found', 'way', 'still', 'close', 'made', 'seem', 'side', 'time', 'pull', 'around', 'mani', 'tri', 'eye', 'ye'}\n",
      "high threshold:  0.85  features:  13326\n",
      "58\n",
      "{'know', 'think', 'good', 'well', 'left', 'ask', 'head', 'let', 'toward', 'get', 'want', 'use', 'back', 'look', 'though', 'even', 'take', 'turn', 'peopl', 'place', 'light', 'walk', 'found', 'way', 'move', 'still', 'man', 'much', 'face', 'made', 'seem', 'work', 'thing', 'two', 'anoth', 'feel', 'need', 'side', 'never', 'time', 'make', 'away', 'took', 'storm', 'go', 'around', 'hand', 'right', 'tri', 'eye', 'someth', 'felt', 'day', 'thought', 'long', 'see', 'step', 'come'}\n",
      "high threshold:  0.9  features:  13350\n",
      "34\n",
      "{'know', 'think', 'well', 'ask', 'head', 'let', 'toward', 'get', 'want', 'back', 'look', 'though', 'even', 'turn', 'way', 'still', 'made', 'seem', 'thing', 'need', 'time', 'make', 'away', 'go', 'around', 'hand', 'right', 'tri', 'eye', 'someth', 'thought', 'long', 'see', 'come'}\n",
      "high threshold:  0.95  features:  13373\n",
      "11\n",
      "{'eye', 'back', 'know', 'someth', 'ask', 'see', 'time', 'away', 'look', 'way', 'hand'}\n",
      "high threshold:  1.0  features:  13384\n",
      "0\n",
      "set()\n"
     ]
    }
   ],
   "source": [
    "points_x_max = []\n",
    "points_y_max = []\n",
    "\n",
    "for val in np.linspace(0.05, 1.0, 20):\n",
    "#     vectorized_matrix, vectorizer = vectorizeText(unpickled_df['chapter_text'], 0.01, val)\n",
    "    vectorized_matrix, vectorizer = vectorizeText(unpickled_df['chapter_text'], 1, val)\n",
    "    \n",
    "    print(\"high threshold: \", val, \" features: \", vectorized_matrix.shape[1])\n",
    "    vectorized_matrix.shape\n",
    "    \n",
    "    points_x_max.append(val)\n",
    "    points_y_max.append(vectorized_matrix.shape[1])\n",
    "    \n",
    "    print(len(vectorizer.stop_words_))\n",
    "    if val > .74:\n",
    "        print(vectorizer.stop_words_)"
   ]
  },
  {
   "cell_type": "code",
   "execution_count": 8,
   "metadata": {},
   "outputs": [
    {
     "data": {
      "text/plain": [
       "<matplotlib.collections.PathCollection at 0x7f80c23982b0>"
      ]
     },
     "execution_count": 8,
     "metadata": {},
     "output_type": "execute_result"
    },
    {
     "data": {
      "image/png": "[encoded data removed]",
      "text/plain": [
       "<Figure size 432x288 with 1 Axes>"
      ]
     },
     "metadata": {
      "needs_background": "light"
     },
     "output_type": "display_data"
    },
    {
     "data": {
      "image/png": "[encoded data removed]",
      "text/plain": [
       "<Figure size 432x288 with 1 Axes>"
      ]
     },
     "metadata": {
      "needs_background": "light"
     },
     "output_type": "display_data"
    }
   ],
   "source": [
    "plt.figure()\n",
    "plt.scatter(points_x_min, points_y_min)\n",
    "plt.figure()\n",
    "plt.scatter(points_x_max, points_y_max)"
   ]
  },
  {
   "cell_type": "code",
   "execution_count": 9,
   "metadata": {},
   "outputs": [],
   "source": [
    "# stop here"
   ]
  },
  {
   "cell_type": "code",
   "execution_count": 10,
   "metadata": {},
   "outputs": [],
   "source": [
    "# vectorized_matrix, vectorizer = vectorizeText(unpickled_df['chapter_text'])\n",
    "vectorized_matrix, vectorizer = vectorizeTextIDF(unpickled_df['chapter_text'], 0.01, 0.75)"
   ]
  },
  {
   "cell_type": "code",
   "execution_count": 11,
   "metadata": {},
   "outputs": [
    {
     "name": "stdout",
     "output_type": "stream",
     "text": [
      "(461, 6)\n",
      "(6, 6377)\n"
     ]
    },
    {
     "data": {
      "text/plain": [
       "[['shallan', 'jasnah', 'veil', 'pattern', 'tyn', 'balat'],\n",
       " ['kaladin', 'teft', 'syl', 'bridg', 'moash', 'rock'],\n",
       " ['dalinar', 'sadea', 'navani', 'vision', 'gavilar', 'parshendi'],\n",
       " ['venli', 'eshonai', 'rhythm', 'human', 'attun', 'rlain'],\n",
       " ['adolin', 'veil', 'honorspren', 'sadea', 'duel', 'spren'],\n",
       " ['navani', 'raboniel', 'szeth', 'taravangian', 'sibl', 'tower']]"
      ]
     },
     "execution_count": 11,
     "metadata": {},
     "output_type": "execute_result"
    }
   ],
   "source": [
    "# non-negative matrix factorization\n",
    "nmf_model = NMF(6, random_state=84597)\n",
    "doc_topic_matrix = nmf_model.fit_transform(vectorized_matrix)\n",
    "print(doc_topic_matrix.shape)\n",
    "\n",
    "topic_word_matrix = nmf_model.components_\n",
    "print(topic_word_matrix.shape)\n",
    "\n",
    "words = vectorizer.get_feature_names()\n",
    "t = nmf_model.components_.argsort(axis=1)[:,-1:-7:-1]\n",
    "topic_words = [[words[e] for e in l] for l in t]\n",
    "topic_words"
   ]
  },
  {
   "cell_type": "code",
   "execution_count": 12,
   "metadata": {},
   "outputs": [
    {
     "name": "stdout",
     "output_type": "stream",
     "text": [
      "[0.20295764 0.         0.         0.         0.18282419 0.        ]\n"
     ]
    }
   ],
   "source": [
    "print(doc_topic_matrix[205])"
   ]
  },
  {
   "cell_type": "code",
   "execution_count": 13,
   "metadata": {},
   "outputs": [
    {
     "name": "stdout",
     "output_type": "stream",
     "text": [
      "Trying NMF with:  1  topics\n",
      "Topic 0: kaladin dalinar shallan adolin navani jasnah\n",
      "\n",
      "Trying NMF with:  2  topics\n",
      "Topic 0: dalinar shallan adolin jasnah navani veil\n",
      "Topic 1: kaladin teft syl bridg moash rock\n",
      "\n",
      "Trying NMF with:  3  topics\n",
      "Topic 0: shallan jasnah adolin veil pattern father\n",
      "Topic 1: kaladin teft syl bridg moash rock\n",
      "Topic 2: dalinar navani adolin sadea taravangian venli\n",
      "\n",
      "Trying NMF with:  4  topics\n",
      "Topic 0: shallan jasnah adolin veil pattern father\n",
      "Topic 1: kaladin teft syl bridg moash rock\n",
      "Topic 2: dalinar adolin navani sadea taravangian king\n",
      "Topic 3: venli eshonai raboniel rhythm human navani\n",
      "\n",
      "Trying NMF with:  5  topics\n",
      "Topic 0: shallan jasnah veil pattern tyn balat\n",
      "Topic 1: kaladin teft syl bridg moash rock\n",
      "Topic 2: dalinar navani taravangian sadea vision gavilar\n",
      "Topic 3: venli eshonai raboniel rhythm human rlain\n",
      "Topic 4: adolin veil honorspren sadea duel spren\n",
      "\n",
      "Trying NMF with:  6  topics\n",
      "Topic 0: shallan jasnah veil pattern tyn balat\n",
      "Topic 1: kaladin teft syl bridg moash rock\n",
      "Topic 2: dalinar sadea navani vision gavilar parshendi\n",
      "Topic 3: venli eshonai rhythm human attun rlain\n",
      "Topic 4: adolin veil honorspren sadea duel spren\n",
      "Topic 5: navani raboniel szeth taravangian sibl tower\n",
      "\n",
      "Trying NMF with:  7  topics\n",
      "Topic 0: shallan jasnah veil pattern tyn balat\n",
      "Topic 1: kaladin teft syl bridg moash rock\n",
      "Topic 2: dalinar sadea navani vision gavilar parshendi\n",
      "Topic 3: venli eshonai rhythm human attun rlain\n",
      "Topic 4: adolin veil honorspren sadea duel spren\n",
      "Topic 5: navani raboniel sibl tower fuse voidlight\n",
      "Topic 6: szeth taravangian lash odium sword nin\n",
      "\n",
      "Trying NMF with:  8  topics\n",
      "Topic 0: shallan jasnah tyn pattern balat father\n",
      "Topic 1: kaladin teft syl bridg moash rock\n",
      "Topic 2: dalinar sadea navani vision gavilar parshendi\n",
      "Topic 3: venli eshonai rhythm human attun rlain\n",
      "Topic 4: adolin sadea duel father renarin shallan\n",
      "Topic 5: navani raboniel sibl tower fuse voidlight\n",
      "Topic 6: szeth taravangian lash sword odium nin\n",
      "Topic 7: veil shallan mraiz radiant honorspren pattern\n",
      "\n",
      "Trying NMF with:  9  topics\n",
      "Topic 0: shallan jasnah tyn pattern balat father\n",
      "Topic 1: kaladin teft syl bridg moash rock\n",
      "Topic 2: dalinar sadea navani vision gavilar parshendi\n",
      "Topic 3: venli eshonai rhythm human attun rlain\n",
      "Topic 4: adolin sadea duel father renarin shallan\n",
      "Topic 5: navani raboniel sibl tower fuse voidlight\n",
      "Topic 6: szeth taravangian lash sword odium nin\n",
      "Topic 7: veil shallan mraiz radiant honorspren pattern\n",
      "Topic 8: lirin kal roshon father hesina tien\n",
      "\n"
     ]
    }
   ],
   "source": [
    "max_k = 10\n",
    "for k in range(1, max_k):\n",
    "    print(\"Trying NMF with: \", k, \" topics\")\n",
    "    nmf_model = NMF(k, random_state=84597)\n",
    "    doc_topic_matrix = nmf_model.fit_transform(vectorized_matrix)\n",
    "    topic_word_matrix = nmf_model.components_\n",
    "    t = nmf_model.components_.argsort(axis=1)[:,-1:-7:-1]\n",
    "    topic_words = [[words[e] for e in l] for l in t]\n",
    "#     print(topic_words)\n",
    "    \n",
    "    for i in range(k):\n",
    "        print(\"Topic %d:\" % i, end='')\n",
    "        for word in topic_words[i]:\n",
    "            print(' %s' % word, end='')\n",
    "        print()\n",
    "        \n",
    "    print()"
   ]
  },
  {
   "cell_type": "code",
   "execution_count": null,
   "metadata": {},
   "outputs": [],
   "source": []
  },
  {
   "cell_type": "code",
   "execution_count": 131,
   "metadata": {},
   "outputs": [
    {
     "name": "stdout",
     "output_type": "stream",
     "text": [
      "Cluster 0: kaladin syl teft bridg adolin moash\n",
      "Cluster 1: dalinar adolin navani sadea parshendi taravangian\n",
      "Cluster 2: venli eshonai raboniel szeth navani rhythm\n",
      "Cluster 3: shallan adolin jasnah veil pattern father\n"
     ]
    }
   ],
   "source": [
    "# kmeans clustering\n",
    "k_clusters = 4\n",
    "\n",
    "km = KMeans(n_clusters=k_clusters, init='k-means++', max_iter=100, n_init=10, random_state=425)\n",
    "doc_clusters = km.fit_predict(vectorized_matrix)\n",
    "\n",
    "order_centroids = km.cluster_centers_.argsort()[:,::-1]\n",
    "cluster_top_words = []\n",
    "\n",
    "for i in range(k_clusters):\n",
    "    print(\"Cluster %d:\" % i, end='')\n",
    "    for j, ind in enumerate(order_centroids[i, :6]):\n",
    "        print(' %s' % words[ind], end='')\n",
    "        if j == 0:\n",
    "            cluster_top_words.append(words[ind])\n",
    "    print()"
   ]
  },
  {
   "cell_type": "code",
   "execution_count": 132,
   "metadata": {},
   "outputs": [
    {
     "data": {
      "text/plain": [
       "['kaladin', 'dalinar', 'venli', 'shallan']"
      ]
     },
     "execution_count": 132,
     "metadata": {},
     "output_type": "execute_result"
    }
   ],
   "source": [
    "doc_clusters[205]\n",
    "\n",
    "cluster_top_words"
   ]
  },
  {
   "cell_type": "code",
   "execution_count": 16,
   "metadata": {},
   "outputs": [
    {
     "name": "stdout",
     "output_type": "stream",
     "text": [
      "Trying kMeans clustering with:  1  clusters\n",
      "Cluster 0: kaladin dalinar shallan adolin navani venli\n",
      "\n",
      "Trying kMeans clustering with:  2  clusters\n",
      "Cluster 0: dalinar shallan adolin venli navani jasnah\n",
      "Cluster 1: kaladin syl teft bridg dalinar moash\n",
      "\n",
      "Trying kMeans clustering with:  3  clusters\n",
      "Cluster 0: kaladin teft syl bridg moash adolin\n",
      "Cluster 1: dalinar navani adolin sadea parshendi taravangian\n",
      "Cluster 2: shallan venli adolin jasnah veil eshonai\n",
      "\n",
      "Trying kMeans clustering with:  4  clusters\n",
      "Cluster 0: kaladin syl teft bridg adolin moash\n",
      "Cluster 1: dalinar adolin navani sadea parshendi taravangian\n",
      "Cluster 2: venli eshonai raboniel szeth navani rhythm\n",
      "Cluster 3: shallan adolin jasnah veil pattern father\n",
      "\n",
      "Trying kMeans clustering with:  5  clusters\n",
      "Cluster 0: dalinar adolin navani sadea parshendi vision\n",
      "Cluster 1: kaladin syl teft bridg moash dalinar\n",
      "Cluster 2: venli eshonai rhythm human raboniel attun\n",
      "Cluster 3: navani szeth taravangian raboniel kal lirin\n",
      "Cluster 4: shallan adolin jasnah veil pattern father\n",
      "\n",
      "Trying kMeans clustering with:  6  clusters\n",
      "Cluster 0: venli eshonai rhythm human raboniel attun\n",
      "Cluster 1: kaladin syl teft bridg moash adolin\n",
      "Cluster 2: dalinar adolin navani sadea parshendi vision\n",
      "Cluster 3: shallan jasnah tyn father pattern balat\n",
      "Cluster 4: szeth navani taravangian raboniel kal lirin\n",
      "Cluster 5: adolin shallan veil honorspren radiant spren\n",
      "\n",
      "Trying kMeans clustering with:  7  clusters\n",
      "Cluster 0: dalinar adolin navani sadea parshendi vision\n",
      "Cluster 1: adolin shallan kaladin honorspren veil spren\n",
      "Cluster 2: szeth kal lirin wit rysn moash\n",
      "Cluster 3: shallan jasnah veil pattern tyn father\n",
      "Cluster 4: navani raboniel taravangian sibl kaladin tower\n",
      "Cluster 5: kaladin teft syl bridg moash dalinar\n",
      "Cluster 6: venli eshonai rhythm human attun raboniel\n",
      "\n",
      "Trying kMeans clustering with:  8  clusters\n",
      "Cluster 0: venli eshonai rhythm human raboniel attun\n",
      "Cluster 1: kaladin syl teft bridg adolin moash\n",
      "Cluster 2: navani raboniel kal lirin wit kaladin\n",
      "Cluster 3: veil shallan adolin mraiz honorspren radiant\n",
      "Cluster 4: dalinar navani evi vision gavilar taravangian\n",
      "Cluster 5: shallan jasnah adolin pattern father tyn\n",
      "Cluster 6: adolin dalinar sadea parshendi plateau navani\n",
      "Cluster 7: szeth taravangian dalinar lash odium diagram\n",
      "\n",
      "Trying kMeans clustering with:  9  clusters\n",
      "Cluster 0: dalinar adolin sadea navani parshendi vision\n",
      "Cluster 1: kaladin teft syl bridg moash dalinar\n",
      "Cluster 2: kaladin azur adolin shallan bead ship\n",
      "Cluster 3: eshonai venli rhythm thude attun human\n",
      "Cluster 4: shallan jasnah tyn father balat pattern\n",
      "Cluster 5: venli raboniel human rhythm fuse leshwi\n",
      "Cluster 6: navani szeth raboniel kal lirin moash\n",
      "Cluster 7: adolin shallan veil radiant honorspren mraiz\n",
      "Cluster 8: taravangian szeth dalinar adrotagia odium diagram\n",
      "\n"
     ]
    }
   ],
   "source": [
    "inertias = []\n",
    "max_k = 10\n",
    "for k in range(1, max_k):\n",
    "    print(\"Trying kMeans clustering with: \", k, \" clusters\")\n",
    "    km = KMeans(n_clusters=k, init='k-means++', max_iter=100, n_init=10, random_state=425)\n",
    "    clusters = km.fit(vectorized_matrix)\n",
    "    inertias.append(clusters.inertia_)    \n",
    "    \n",
    "    order_centroids = km.cluster_centers_.argsort()[:,::-1]\n",
    "\n",
    "    for i in range(k):\n",
    "        print(\"Cluster %d:\" % i, end='')\n",
    "        for ind in order_centroids[i, :6]:\n",
    "            print(' %s' % words[ind], end='')\n",
    "        print()\n",
    "        \n",
    "    print()"
   ]
  },
  {
   "cell_type": "code",
   "execution_count": 17,
   "metadata": {},
   "outputs": [
    {
     "data": {
      "text/plain": [
       "[<matplotlib.lines.Line2D at 0x7f80c763b8e0>]"
      ]
     },
     "execution_count": 17,
     "metadata": {},
     "output_type": "execute_result"
    },
    {
     "data": {
      "image/png": "[encoded data removed]",
      "text/plain": [
       "<Figure size 432x288 with 1 Axes>"
      ]
     },
     "metadata": {
      "needs_background": "light"
     },
     "output_type": "display_data"
    }
   ],
   "source": [
    "ks = [k for k in range(1,max_k)]\n",
    "plt.plot(ks, inertias)"
   ]
  },
  {
   "cell_type": "code",
   "execution_count": 18,
   "metadata": {},
   "outputs": [],
   "source": [
    "# get distances of points \n",
    "# distances  = 1 - cosine_similarity(vectorized_matrix) # same as just the cosine distance: D = 1 - S\n",
    "distances  = cosine_distances(vectorized_matrix)"
   ]
  },
  {
   "cell_type": "code",
   "execution_count": 19,
   "metadata": {},
   "outputs": [
    {
     "data": {
      "text/plain": [
       "(461, 461)"
      ]
     },
     "execution_count": 19,
     "metadata": {},
     "output_type": "execute_result"
    }
   ],
   "source": [
    "distances.shape"
   ]
  },
  {
   "cell_type": "code",
   "execution_count": 20,
   "metadata": {},
   "outputs": [
    {
     "name": "stdout",
     "output_type": "stream",
     "text": [
      "breaking at iteration 206 with stress 10802.272497824946\n",
      "Final stress value: 10230.095448\n"
     ]
    }
   ],
   "source": [
    "mds = MDS(n_components=2, dissimilarity=\"precomputed\", random_state=232, max_iter=300, verbose=1)\n",
    "positions_2d = mds.fit_transform(distances)\n",
    "print('Final stress value: %f' %mds.stress_)\n",
    "\n",
    "\n",
    "xs, ys = positions_2d[:, 0], positions_2d[:, 1]"
   ]
  },
  {
   "cell_type": "code",
   "execution_count": 21,
   "metadata": {},
   "outputs": [
    {
     "data": {
      "text/plain": [
       "(461, 2)"
      ]
     },
     "execution_count": 21,
     "metadata": {},
     "output_type": "execute_result"
    }
   ],
   "source": [
    "positions_2d.shape"
   ]
  },
  {
   "cell_type": "code",
   "execution_count": 22,
   "metadata": {},
   "outputs": [
    {
     "data": {
      "image/png": "[encoded data removed]",
      "text/plain": [
       "<Figure size 648x432 with 1 Axes>"
      ]
     },
     "metadata": {
      "needs_background": "light"
     },
     "output_type": "display_data"
    }
   ],
   "source": [
    "fig, ax = plt.subplots(figsize=(9, 6))\n",
    "ax.plot(xs, ys, marker='o', markersize=6, linestyle='', color='orange', alpha=1.0, mec=\"none\" ) \n",
    "ax.set_aspect('equal')\n",
    "\n",
    "\n",
    "# ax.tick_params(axis='x',which='both',bottom='off',top='off',labelbottom='off')\n",
    "# ax.tick_params(axis='y',which='both',left='off',right='off',labelleft='off')\n",
    "# ax.set_xlim(-0.85,1.7)\n",
    "# ax.set_ylim(-0.85,0.85)\n",
    "\n",
    "plt.show()"
   ]
  },
  {
   "cell_type": "code",
   "execution_count": 125,
   "metadata": {},
   "outputs": [
    {
     "name": "stdout",
     "output_type": "stream",
     "text": [
      "[t-SNE] Computing 151 nearest neighbors...\n",
      "[t-SNE] Indexed 461 samples in 0.007s...\n",
      "[t-SNE] Computed neighbors for 461 samples in 0.465s...\n",
      "[t-SNE] Computed conditional probabilities for sample 461 / 461\n",
      "[t-SNE] Mean sigma: 0.377606\n",
      "[t-SNE] KL divergence after 250 iterations with early exaggeration: 66.994423\n",
      "[t-SNE] KL divergence after 1000 iterations: 0.626809\n"
     ]
    }
   ],
   "source": [
    "# try TSNE plot\n",
    "\n",
    "tsne = TSNE(n_components=2, verbose=1, perplexity=50, n_iter=1000, learning_rate=200, random_state=6321)\n",
    "# %timeit -n 1 -r 1 \n",
    "# tsne_results = tsne.fit_transform(distances)\n",
    "tsne_results = tsne.fit_transform(vectorized_matrix)\n"
   ]
  },
  {
   "cell_type": "code",
   "execution_count": 126,
   "metadata": {},
   "outputs": [
    {
     "name": "stdout",
     "output_type": "stream",
     "text": [
      "(461, 6377)\n",
      "(461, 461)\n",
      "(461, 2)\n"
     ]
    }
   ],
   "source": [
    "print(vectorized_matrix.shape)\n",
    "print(distances.shape)\n",
    "print(tsne_results.shape)"
   ]
  },
  {
   "cell_type": "code",
   "execution_count": 127,
   "metadata": {},
   "outputs": [
    {
     "data": {
      "text/plain": [
       "<seaborn.axisgrid.FacetGrid at 0x7f80b016caf0>"
      ]
     },
     "execution_count": 127,
     "metadata": {},
     "output_type": "execute_result"
    },
    {
     "data": {
      "image/png": "[encoded data removed]",
      "text/plain": [
       "<Figure size 360x360 with 1 Axes>"
      ]
     },
     "metadata": {
      "needs_background": "light"
     },
     "output_type": "display_data"
    }
   ],
   "source": [
    "df_tsne = pd.DataFrame(tsne_results, columns=['comp1', 'comp2'])\n",
    "# df_tsne['label'] = y[rows[:n_select]]\n",
    "sns.lmplot(x='comp1', y='comp2', data=df_tsne, fit_reg=False)\n",
    "# sns.scatterplot(x='comp1', y='comp2', data=df_tsne)"
   ]
  },
  {
   "cell_type": "code",
   "execution_count": 23,
   "metadata": {},
   "outputs": [],
   "source": [
    "# try gensim LDA\n",
    "\n",
    "vectorized_matrix_noidf, vectorizer_noidf = vectorizeText(unpickled_df['chapter_text'], 0.01, 0.75)\n"
   ]
  },
  {
   "cell_type": "code",
   "execution_count": 24,
   "metadata": {},
   "outputs": [],
   "source": [
    "doc_words = vectorized_matrix_noidf.transpose()\n",
    "corpus_for_lda = matutils.Sparse2Corpus(doc_words)\n",
    "id2word = dict((v, k) for k, v in vectorizer_noidf.vocabulary_.items())\n",
    "\n",
    "lda = models.LdaModel(corpus=corpus_for_lda, num_topics=5, id2word=id2word, passes=5, random_state=67676, eval_every=1)"
   ]
  },
  {
   "cell_type": "code",
   "execution_count": 25,
   "metadata": {},
   "outputs": [
    {
     "data": {
      "text/plain": [
       "[(0,\n",
       "  '0.010*\"venli\" + 0.007*\"adolin\" + 0.006*\"navani\" + 0.006*\"veil\" + 0.006*\"human\" + 0.006*\"spren\" + 0.006*\"shallan\" + 0.005*\"radiant\" + 0.004*\"eshonai\" + 0.004*\"raboniel\"'),\n",
       " (1,\n",
       "  '0.035*\"dalinar\" + 0.013*\"adolin\" + 0.008*\"kaladin\" + 0.006*\"sadea\" + 0.006*\"navani\" + 0.005*\"king\" + 0.004*\"soldier\" + 0.004*\"parshendi\" + 0.003*\"bridg\" + 0.003*\"father\"'),\n",
       " (2,\n",
       "  '0.022*\"kaladin\" + 0.007*\"bridg\" + 0.006*\"navani\" + 0.005*\"teft\" + 0.005*\"room\" + 0.004*\"tower\" + 0.004*\"moash\" + 0.004*\"syl\" + 0.004*\"spren\" + 0.004*\"rlain\"'),\n",
       " (3,\n",
       "  '0.044*\"kaladin\" + 0.007*\"syl\" + 0.006*\"rock\" + 0.005*\"kal\" + 0.004*\"wall\" + 0.004*\"teft\" + 0.004*\"spear\" + 0.004*\"stormlight\" + 0.004*\"soldier\" + 0.004*\"szeth\"'),\n",
       " (4,\n",
       "  '0.031*\"shallan\" + 0.011*\"kaladin\" + 0.010*\"jasnah\" + 0.005*\"adolin\" + 0.005*\"father\" + 0.004*\"pattern\" + 0.004*\"woman\" + 0.003*\"rock\" + 0.003*\"room\" + 0.003*\"sphere\"')]"
      ]
     },
     "execution_count": 25,
     "metadata": {},
     "output_type": "execute_result"
    }
   ],
   "source": [
    "lda.print_topics()"
   ]
  },
  {
   "cell_type": "code",
   "execution_count": 26,
   "metadata": {},
   "outputs": [
    {
     "data": {
      "text/plain": [
       "'0.010*\"venli\" + 0.007*\"adolin\" + 0.006*\"navani\" + 0.006*\"veil\" + 0.006*\"human\" + 0.006*\"spren\"'"
      ]
     },
     "execution_count": 26,
     "metadata": {},
     "output_type": "execute_result"
    }
   ],
   "source": [
    "stringtest = lda.print_topic(0,6)\n",
    "stringtest"
   ]
  },
  {
   "cell_type": "code",
   "execution_count": 27,
   "metadata": {},
   "outputs": [
    {
     "data": {
      "text/plain": [
       "[(1, 0.9989873)]"
      ]
     },
     "execution_count": 27,
     "metadata": {},
     "output_type": "execute_result"
    }
   ],
   "source": [
    "lda_corpus = lda[corpus_for_lda]\n",
    "lda_docs = [doc for doc in lda_corpus]\n",
    "lda_docs[203]"
   ]
  },
  {
   "cell_type": "code",
   "execution_count": 28,
   "metadata": {},
   "outputs": [
    {
     "data": {
      "text/plain": [
       "list"
      ]
     },
     "execution_count": 28,
     "metadata": {},
     "output_type": "execute_result"
    }
   ],
   "source": [
    "type(lda_docs)"
   ]
  },
  {
   "cell_type": "code",
   "execution_count": 29,
   "metadata": {},
   "outputs": [
    {
     "data": {
      "text/plain": [
       "[(5962, 0.009536454),\n",
       " (67, 0.0071701594),\n",
       " (3448, 0.006430068),\n",
       " (5957, 0.0062236455),\n",
       " (2546, 0.0058783162),\n",
       " (5081, 0.0058022263),\n",
       " (4698, 0.0056842747),\n",
       " (4145, 0.004673043),\n",
       " (1766, 0.0044919183),\n",
       " (4140, 0.00448509)]"
      ]
     },
     "execution_count": 29,
     "metadata": {},
     "output_type": "execute_result"
    }
   ],
   "source": [
    "lda.get_topic_terms(0, topn=10)\n"
   ]
  },
  {
   "cell_type": "code",
   "execution_count": 30,
   "metadata": {},
   "outputs": [
    {
     "data": {
      "image/png": "[encoded data removed]",
      "text/plain": [
       "<Figure size 432x288 with 1 Axes>"
      ]
     },
     "metadata": {
      "needs_background": "light"
     },
     "output_type": "display_data"
    }
   ],
   "source": [
    "# if this file is rerun, the log file gets appended to and then the plot below will repeat\n",
    "import re\n",
    "p = re.compile(\"(-*\\d+\\.\\d+) per-word .* (\\d+\\.\\d+) perplexity\")\n",
    "matches = [p.findall(l) for l in open('gensim.log')]\n",
    "matches = [m for m in matches if len(m) > 0]\n",
    "tuples = [t[0] for t in matches]\n",
    "perplexity = [float(t[1]) for t in tuples]\n",
    "liklihood = [float(t[0]) for t in tuples]\n",
    "iter = list(range(0,len(tuples)*10,10))\n",
    "plt.plot(iter,liklihood,c=\"black\")\n",
    "plt.ylabel(\"log liklihood\")\n",
    "plt.xlabel(\"iteration\")\n",
    "plt.title(\"Topic Model Convergence\")\n",
    "plt.grid()\n",
    "plt.show()\n",
    "# plt.savefig(\"convergence_liklihood.pdf\")\n",
    "# plt.close()"
   ]
  },
  {
   "cell_type": "code",
   "execution_count": 57,
   "metadata": {},
   "outputs": [
    {
     "data": {
      "text/plain": [
       "Sentiment(polarity=0.15466813472021812, subjectivity=0.4676813522126022)"
      ]
     },
     "execution_count": 57,
     "metadata": {},
     "output_type": "execute_result"
    }
   ],
   "source": [
    "# test textblob sentiment analysis\n",
    "text_test = TextBlob(unpickled_df['chapter_text'][121]) # 121\n",
    "text_test.sentiment"
   ]
  },
  {
   "cell_type": "code",
   "execution_count": 50,
   "metadata": {},
   "outputs": [
    {
     "data": {
      "text/plain": [
       "chapter_text     ti said warm land far away voidbring enter so...\n",
       "book                                                            2\n",
       "chapter                                                        35\n",
       "Name: 121, dtype: object"
      ]
     },
     "execution_count": 50,
     "metadata": {},
     "output_type": "execute_result"
    }
   ],
   "source": [
    "unpickled_df.iloc[121]"
   ]
  },
  {
   "cell_type": "code",
   "execution_count": 48,
   "metadata": {},
   "outputs": [
    {
     "data": {
      "text/plain": [
       "' ti said warm land far away voidbring enter song brought home stay home becam happen gradual year ahead twil still said ti listen song histori stanza shallan gasp sudden ﬂare color disrupt landscap like break lightn otherwis clear sky shallan set practic palm stood wagon steadi freehand back seat ye unmistak brilliant red yellow otherwis dull canva brown green tyn shallan said woman loung feet wide brim white hat tip eye despit fact suppos drive shallan wore bluth hat recov thing keep sun oﬀ tyn turn side lift hat huh right shallan said color tyn squint see anyth could miss color vibrant compar roll hill full rockbud reed patch grass shallan took woman spyglass rais look close plant shallan said rock overhang shelter east oh tyn settl back close eye thought might caravan tent someth tyn plant diverg ﬂora otherwis uniform ecosystem shallan exclaim go go tell macob steer caravan way kid kind strang tyn said shallan yell wagon stop macob reluct agre detour fortun accept author caravan day shatter plain take easi shallan struggl contain excit much frostland uniformli dull someth new draw excit beyond normal reason approach ridg caus high shelf rock exactli right angl form windbreak larger version format call lait shelter valley town could ﬂourish well nearli larg life still found grove short bone white tree grew vivid red leav vine numer varieti drape rock wall ground teem rockbud varieti remain open even rain blossom droop heavi petal insid along tonguelik tendril move like worm seek water small pond reﬂect blue sky feed rockbud tree leafi shade turn gave shelter bright green moss beauti like vein rubi emerald drab stone shallan hop moment wagon pull frighten someth underbrush small feral axehound burst away sure honestli even sure axehound move quickli well thought walk tini lait probabl mean worri anyth larger predat like whitespin would frighten away smaller life shallan walk forward smile almost like garden though plant obvious wild rather cultiv move quickli retract bloom feeler leav open patch around stiﬂe sneez push ﬁnd dark green pond set blanket boulder settl sketch other caravan went scout lait around top rock wall shallan breath wonder humid plant relax rockbud petal stretch timid leav unfold color swell around like natur blush stormfath realiz much miss varieti beauti plant open sketchbook drew quick prayer name shalash herald beauti shallan namesak plant retract someon move gaz stumbl past group rockbud curs tri step vine came hesit look pool storm said ﬁsh eel shallan guess someth rippl green surfac pool bright orang one appear like back father ornament garden gaz lean tri get good look one eel broke surfac ﬂip tail spray water shallan laugh take memori one eye man peer verdant depth lip purs wipe forehead want gaz well said shuﬄe wonder glanc sketchpad shallan ﬂip new page pad cours like one glurv assum gaz cough hand yeah one look right nice shallan smile start sketch need pose someth gaz ask sure said mostli keep busi drew tidi uniform smooth paunch take liberti chin diﬀer howev express look distanc right express eye patch becam nobl scar face becam wise uniform becam mark pride ﬁlled light background detail reminisc night besid ﬁre peopl caravan thank gaz other rescu remov sheet pad turn toward gaz took rever run hand hair storm whisper realli look like ye shallan said could faintli feel pattern vibrat softli nearbi lie also truth certainli peopl gaz save view thank bright gaz said thank ash eye actual seem tear keep safe shallan said fold tonight lacquer smudg nod walk frighten plant retreat sixth men ask like encourag request anyth remind could shallan thought everyon seem want someth jasnah tyn father want ﬂip back sketchbook ﬁnding page drawn half dozen diﬀer situat scholar woman court artist want could pattern hum shallan glanc side notic vathah lurk tree nearbi tall mercenari leader said anyth sketch saw sneer stop frighten plant vathah shallan said macob say stop night vathah repli move away troubl pattern buzz ye troubl know shallan said wait foliag return sketch unfortun though abl get charcoal lacquer merchant color chalk might tri someth ambiti still would nice seri studi quit chang rest sketchbook pointedli think lost drew drew enjoy simpl peac small thicket lifespren join littl green mote bob leav blossom pattern move onto water amusingli began quietli count leav nearbi tree shallan got good half dozen draw pond tree hope abl identifi book later made sure close view show leav detail move draw whatev struck nice move wagon sketch environ light draw still seren surround life paus notic drawn rocki shore near ocean distinct cliﬀ rise behind perspect distant rocki shore sever shadowi ﬁgure help one anoth water swore one yalb hope fanci wish much aliv would probabl never know turn page drew came sketch woman kneel bodi rais hammer chisel slam person face one beneath stiﬀ wooden mayb even stone shallan shook head lower pencil studi draw drawn ﬁrst one made worri yalb sailor say subconsci drawn strang depict look realiz shadow grown long sun eas rest horizon shallan smile jump saw someon stand ten pace away tyn shallan said rais safehand breast stormfath gave fright woman pick way foliag shi away draw nice think spend time practic forg signatur natur kind work could without worri get troubl practic shallan said need practic art get realli draw get shallan said put other tyn grin reach shallan stone alway fast quip like need introduc friend mine reach shatter plain spoil right quick sound pleasant nonsens tyn said hop onto dri part next rock still joke would mere dirtier love shallan said blush thought blush might make tyn laugh instead woman becam thought go ﬁgure way give tast realism shallan oh come form tonic day tyn said come form punch face leav nice girl cri assum lucki enough surviv think ﬁnd shallan said life one nonstop blossom cake sure think tyn said everyon shallan like realli think got heap potenti train requir diﬃcult thing thing wrench soul rip apart go situat never bare know shallan said certain never done thing like broken tyn said express distant perhap fake kid tyn said draw pictur crimin turn hero danc around ﬂower patch sketchpad blush mere hint someth raci howev bad think brace go get wors honestli know abl handl tell shallan ask littl day time go reach shatter plain last chanc back go tyn arriv admit gone along tyn assumpt order learn know peopl shallan thought peopl warcamp might use know shallan continu subterfug want though part knew like tyn want give woman reason stop teach commit shallan found say want go plan lie tyn sigh nod right readi tell grand scam dalinar kholin shallan said son betroth woman jah keve tyn rais eyebrow curiou woman go arriv expect shallan said look like could say tyn smile nice think would blackmail tough though scam might actual abl impress bold attain thank plan tyn said well go introduc kholin indic woman son marri let set household good tyn shook head sharpli put much kholin debt make seem needi undermin abil respect call pretti face con attempt reliev rich man sphere kind job present imag want set inn somewher diﬀer warcamp act like complet self suﬃcient maintain air mysteri easi son captur one way older one younger one adolin shallan said hmmm sure better wors renarin adolin kholin ﬂirt reput see father want marri oﬀ tough keep attent though realli shallan ask feel spike real concern yeah almost engag dozen time think engag actual good met work one awhil determin right approach certainli go accept kholin hospit adolin never express interest way unobtain hard unobtain alreadi causal still import tyn said rais ﬁnger one want love scam tricki rel safe ﬁgure shallan nod though insid worri spike would happen betroth jasnah around push longer woman want shallan tie famili presum surgebind potenti shallan doubt rest kholin hous would determin nobodi veden girl marri famili tyn rose shallan stuﬀe away anxieti betroth end far import concern urithiru voidbring would ﬁgure way deal tyn way involv actual scam kholin famili one thing juggl oddli found excit prospect decid one draw ﬁnding food'"
      ]
     },
     "execution_count": 48,
     "metadata": {},
     "output_type": "execute_result"
    }
   ],
   "source": [
    "unpickled_df['chapter_text'][121]"
   ]
  },
  {
   "cell_type": "code",
   "execution_count": 145,
   "metadata": {},
   "outputs": [
    {
     "data": {
      "text/html": [
       "<svg  width=\"550\" height=\"55\"><rect x=\"0\" y=\"0\" width=\"55\" height=\"55\" style=\"fill:#1f77b4;stroke-width:2;stroke:rgb(255,255,255)\"/><rect x=\"55\" y=\"0\" width=\"55\" height=\"55\" style=\"fill:#ff7f0e;stroke-width:2;stroke:rgb(255,255,255)\"/><rect x=\"110\" y=\"0\" width=\"55\" height=\"55\" style=\"fill:#2ca02c;stroke-width:2;stroke:rgb(255,255,255)\"/><rect x=\"165\" y=\"0\" width=\"55\" height=\"55\" style=\"fill:#d62728;stroke-width:2;stroke:rgb(255,255,255)\"/><rect x=\"220\" y=\"0\" width=\"55\" height=\"55\" style=\"fill:#9467bd;stroke-width:2;stroke:rgb(255,255,255)\"/><rect x=\"275\" y=\"0\" width=\"55\" height=\"55\" style=\"fill:#8c564b;stroke-width:2;stroke:rgb(255,255,255)\"/><rect x=\"330\" y=\"0\" width=\"55\" height=\"55\" style=\"fill:#e377c2;stroke-width:2;stroke:rgb(255,255,255)\"/><rect x=\"385\" y=\"0\" width=\"55\" height=\"55\" style=\"fill:#7f7f7f;stroke-width:2;stroke:rgb(255,255,255)\"/><rect x=\"440\" y=\"0\" width=\"55\" height=\"55\" style=\"fill:#bcbd22;stroke-width:2;stroke:rgb(255,255,255)\"/><rect x=\"495\" y=\"0\" width=\"55\" height=\"55\" style=\"fill:#17becf;stroke-width:2;stroke:rgb(255,255,255)\"/></svg>"
      ],
      "text/plain": [
       "[(0.12156862745098039, 0.4666666666666667, 0.7058823529411765),\n",
       " (1.0, 0.4980392156862745, 0.054901960784313725),\n",
       " (0.17254901960784313, 0.6274509803921569, 0.17254901960784313),\n",
       " (0.8392156862745098, 0.15294117647058825, 0.1568627450980392),\n",
       " (0.5803921568627451, 0.403921568627451, 0.7411764705882353),\n",
       " (0.5490196078431373, 0.33725490196078434, 0.29411764705882354),\n",
       " (0.8901960784313725, 0.4666666666666667, 0.7607843137254902),\n",
       " (0.4980392156862745, 0.4980392156862745, 0.4980392156862745),\n",
       " (0.7372549019607844, 0.7411764705882353, 0.13333333333333333),\n",
       " (0.09019607843137255, 0.7450980392156863, 0.8117647058823529)]"
      ]
     },
     "execution_count": 145,
     "metadata": {},
     "output_type": "execute_result"
    }
   ],
   "source": [
    "colors = sns.color_palette()\n",
    "colors"
   ]
  },
  {
   "cell_type": "code",
   "execution_count": 144,
   "metadata": {},
   "outputs": [
    {
     "name": "stdout",
     "output_type": "stream",
     "text": [
      "#1f77b4\n",
      "#ff7f0e\n",
      "#2ca02c\n",
      "#d62728\n",
      "#9467bd\n",
      "#8c564b\n",
      "#e377c2\n",
      "#7f7f7f\n",
      "#bcbd22\n",
      "#17becf\n"
     ]
    }
   ],
   "source": [
    "for i,_ in enumerate(colors):\n",
    "    print(colors.as_hex()[i])"
   ]
  },
  {
   "cell_type": "code",
   "execution_count": null,
   "metadata": {},
   "outputs": [],
   "source": []
  }
 ],
 "metadata": {
  "kernelspec": {
   "display_name": "Python 3",
   "language": "python",
   "name": "python3"
  },
  "language_info": {
   "codemirror_mode": {
    "name": "ipython",
    "version": 3
   },
   "file_extension": ".py",
   "mimetype": "text/x-python",
   "name": "python",
   "nbconvert_exporter": "python",
   "pygments_lexer": "ipython3",
   "version": "3.8.5"
  }
 },
 "nbformat": 4,
 "nbformat_minor": 4
}
